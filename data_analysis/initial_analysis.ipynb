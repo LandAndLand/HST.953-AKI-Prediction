{
 "cells": [
  {
   "cell_type": "code",
   "execution_count": 23,
   "metadata": {
    "collapsed": false
   },
   "outputs": [],
   "source": [
    "import pandas as pd\n",
    "import numpy as np\n",
    "import matplotlib.pyplot as plt\n",
    "\n",
    "from StringIO import StringIO\n",
    "import requests"
   ]
  },
  {
   "cell_type": "code",
   "execution_count": 39,
   "metadata": {
    "collapsed": false
   },
   "outputs": [],
   "source": [
    "#load in data\n",
    "data_path='../data_extraction/data/'\n",
    "\n",
    "cohort = pd.read_table(data_path+'cohort.tsv')\n",
    "creatinine = pd.read_table(data_path+'creatinine.csv')\n",
    "maps = pd.read_table(data_path+'map.csv')\n",
    "urine = pd.read_table(data_path+'urine.csv')"
   ]
  },
  {
   "cell_type": "code",
   "execution_count": 40,
   "metadata": {
    "collapsed": false
   },
   "outputs": [
    {
     "name": "stdout",
     "output_type": "stream",
     "text": [
      "               age          los\n",
      "count  5342.000000  5342.000000\n",
      "mean     71.703842    11.416165\n",
      "std      48.474031    10.331876\n",
      "min      18.138720     3.000300\n",
      "25%      52.494296     4.790000\n",
      "50%      65.322301     7.903400\n",
      "75%      76.984900    14.118000\n",
      "max     309.777981   173.072500\n"
     ]
    }
   ],
   "source": [
    "#numerical variable summaries\n",
    "print cohort[['age','los']].describe()"
   ]
  },
  {
   "cell_type": "code",
   "execution_count": 41,
   "metadata": {
    "collapsed": false
   },
   "outputs": [
    {
     "name": "stdout",
     "output_type": "stream",
     "text": [
      "F    2613\n",
      "M    2729\n",
      "dtype: int64\n"
     ]
    }
   ],
   "source": [
    "#gender summary\n",
    "print pd.value_counts(cohort['gender'].values, sort=False)"
   ]
  }
 ],
 "metadata": {
  "anaconda-cloud": {},
  "kernelspec": {
   "display_name": "Python [Root]",
   "language": "python",
   "name": "Python [Root]"
  },
  "language_info": {
   "codemirror_mode": {
    "name": "ipython",
    "version": 2
   },
   "file_extension": ".py",
   "mimetype": "text/x-python",
   "name": "python",
   "nbconvert_exporter": "python",
   "pygments_lexer": "ipython2",
   "version": "2.7.12"
  }
 },
 "nbformat": 4,
 "nbformat_minor": 0
}
