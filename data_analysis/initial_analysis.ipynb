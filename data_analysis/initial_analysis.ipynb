{
 "cells": [
  {
   "cell_type": "code",
   "execution_count": 152,
   "metadata": {
    "collapsed": false
   },
   "outputs": [],
   "source": [
    "import pandas as pd\n",
    "import numpy as np\n",
    "import matplotlib.pyplot as plt"
   ]
  },
  {
   "cell_type": "code",
   "execution_count": 188,
   "metadata": {
    "collapsed": false
   },
   "outputs": [],
   "source": [
    "# load in data\n",
    "data_path='../data_extraction/data/'\n",
    "\n",
    "cohort = pd.read_table(data_path+'cohort.tsv')\n",
    "creatinine = pd.read_csv(data_path+'creatinine.csv')\n",
    "maps = pd.read_csv(data_path+'map.csv')\n",
    "urine = pd.read_csv(data_path+'urine.csv')"
   ]
  },
  {
   "cell_type": "code",
   "execution_count": 159,
   "metadata": {
    "collapsed": false
   },
   "outputs": [
    {
     "name": "stdout",
     "output_type": "stream",
     "text": [
      "               age          los    max_lactate    vaso_frac\n",
      "count  5342.000000  5342.000000    4485.000000  5342.000000\n",
      "mean     71.703842    11.416165     226.160700     0.133613\n",
      "std      48.474031    10.331876   14931.965231     0.214067\n",
      "min      18.138720     3.000300       0.500000     0.000000\n",
      "25%      52.494296     4.790000       1.500000     0.000000\n",
      "50%      65.322301     7.903400       2.200000     0.006947\n",
      "75%      76.984900    14.118000       3.800000     0.196396\n",
      "max     309.777981   173.072500  999999.000000     0.995077\n"
     ]
    }
   ],
   "source": [
    "# numerical variable summaries\n",
    "print cohort[['age','los','max_lactate','vaso_frac']].describe()"
   ]
  },
  {
   "cell_type": "code",
   "execution_count": 155,
   "metadata": {
    "collapsed": false
   },
   "outputs": [
    {
     "name": "stdout",
     "output_type": "stream",
     "text": [
      "F    2613\n",
      "M    2729\n",
      "dtype: int64\n"
     ]
    }
   ],
   "source": [
    "# gender summary\n",
    "print pd.value_counts(cohort['gender'].values, sort=False)"
   ]
  },
  {
   "cell_type": "code",
   "execution_count": 156,
   "metadata": {
    "collapsed": false
   },
   "outputs": [
    {
     "name": "stdout",
     "output_type": "stream",
     "text": [
      "AMERICAN INDIAN/ALASKA NATIVE       2\n",
      "ASIAN                             105\n",
      "BLACK/AFRICAN AMERICAN            346\n",
      "WHITE                            3885\n",
      "HISPANIC/LATINO                   169\n",
      "MULTI/OTHER                       146\n",
      "UNKNOWN                           689\n",
      "dtype: int64\n"
     ]
    }
   ],
   "source": [
    "# ethnicity summary\n",
    "eth = cohort['ethnicity'].astype('category')\n",
    "\n",
    "# grouping based on the standards at: http://grants.nih.gov/grants/guide/notice-files/NOT-OD-15-089.html\n",
    "eth = eth.cat.add_categories(['HISPANIC/LATINO','MULTI/OTHER','UNKNOWN'])\n",
    "\n",
    "eth[np.array([('HISPANIC' in i or\n",
    "               'PORTUGUESE' in i) for i in eth],dtype=bool)]='HISPANIC/LATINO'\n",
    "eth[np.array([('ASIAN' in i) for i in eth],dtype=bool)]='ASIAN'\n",
    "eth[np.array([('BLACK' in i or\n",
    "               'AFRICAN' in i) for i in eth],dtype=bool)]='BLACK/AFRICAN AMERICAN'\n",
    "eth[np.array([('WHITE' in i or\n",
    "               'MIDDLE EAST' in i) for i in eth],dtype=bool)]='WHITE'\n",
    "eth[np.array([('MULTI' in i or\n",
    "               'OTHER' in i) for i in eth],dtype=bool)]='MULTI/OTHER'\n",
    "eth[np.array([('DECLINE' in i or\n",
    "               'UNABLE' in i or\n",
    "               'UNKNOWN' in i) for i in eth],dtype=bool)]='UNKNOWN'\n",
    "\n",
    "eth = eth.cat.remove_unused_categories()\n",
    "\n",
    "print pd.value_counts(eth.values, sort=False)"
   ]
  },
  {
   "cell_type": "code",
   "execution_count": 331,
   "metadata": {
    "collapsed": false
   },
   "outputs": [],
   "source": [
    "# convert raw MAP readings to MAP features\n",
    "\n",
    "# for now, limit readings to first 72 hours\n",
    "num_hours = 72\n",
    "maps = maps[(0 < maps.min_from_intime) & (maps.min_from_intime < num_hours*60)]\n",
    "\n",
    "# average MAP for every hour\n",
    "maps['hour'] = pd.Series((maps.min_from_intime/60).astype(int), index=maps.index)\n",
    "\n",
    "# get means for every hour and minimum value\n",
    "mean_maps = maps.groupby(['icustay_id', 'hour'])['value'].mean()\n",
    "min_maps = maps.groupby(['icustay_id'])['value'].min()\n",
    "\n",
    "# bin MAP values\n",
    "# TODO: How to handle NaNs (no data recorded during that hour)?\n",
    "map_cutoffs = np.append(np.arange(30,100,10),200)\n",
    "binned_mean_maps = pd.cut(mean_maps, map_cutoffs)"
   ]
  }
 ],
 "metadata": {
  "anaconda-cloud": {},
  "kernelspec": {
   "display_name": "Python [Root]",
   "language": "python",
   "name": "Python [Root]"
  },
  "language_info": {
   "codemirror_mode": {
    "name": "ipython",
    "version": 2
   },
   "file_extension": ".py",
   "mimetype": "text/x-python",
   "name": "python",
   "nbconvert_exporter": "python",
   "pygments_lexer": "ipython2",
   "version": "2.7.12"
  }
 },
 "nbformat": 4,
 "nbformat_minor": 0
}
