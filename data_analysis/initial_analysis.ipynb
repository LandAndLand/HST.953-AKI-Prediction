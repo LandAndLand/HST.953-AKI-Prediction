{
 "cells": [
  {
   "cell_type": "code",
   "execution_count": 23,
   "metadata": {
    "collapsed": false
   },
   "outputs": [],
   "source": [
    "import pandas as pd\n",
    "import numpy as np\n",
    "import matplotlib.pyplot as plt\n",
    "\n",
    "from StringIO import StringIO\n",
    "import requests"
   ]
  },
  {
   "cell_type": "code",
   "execution_count": 39,
   "metadata": {
    "collapsed": false
   },
   "outputs": [],
   "source": [
    "#load in data\n",
    "data_path='../data_extraction/data/'\n",
    "\n",
    "cohort = pd.read_table(data_path+'cohort.tsv')\n",
    "creatinine = pd.read_table(data_path+'creatinine.csv')\n",
    "maps = pd.read_table(data_path+'map.csv')\n",
    "urine = pd.read_table(data_path+'urine.csv')"
   ]
  },
  {
   "cell_type": "code",
   "execution_count": 40,
   "metadata": {
    "collapsed": false
   },
   "outputs": [
    {
     "name": "stdout",
     "output_type": "stream",
     "text": [
      "               age          los\n",
      "count  5342.000000  5342.000000\n",
      "mean     71.703842    11.416165\n",
      "std      48.474031    10.331876\n",
      "min      18.138720     3.000300\n",
      "25%      52.494296     4.790000\n",
      "50%      65.322301     7.903400\n",
      "75%      76.984900    14.118000\n",
      "max     309.777981   173.072500\n"
     ]
    }
   ],
   "source": [
    "#numerical variable summaries\n",
    "print cohort[['age','los']].describe()"
   ]
  },
  {
   "cell_type": "code",
   "execution_count": 41,
   "metadata": {
    "collapsed": false
   },
   "outputs": [
    {
     "name": "stdout",
     "output_type": "stream",
     "text": [
      "F    2613\n",
      "M    2729\n",
      "dtype: int64\n"
     ]
    }
   ],
   "source": [
    "#gender summary\n",
    "print pd.value_counts(cohort['gender'].values, sort=False)"
   ]
  },
  {
   "cell_type": "code",
   "execution_count": 144,
   "metadata": {
    "collapsed": false
   },
   "outputs": [
    {
     "name": "stdout",
     "output_type": "stream",
     "text": [
      "[array([False, False, False, ..., False, False, False], dtype=bool)]\n",
      "AMERICAN INDIAN/ALASKA NATIVE        2\n",
      "ASIAN                              105\n",
      "ASIAN - ASIAN INDIAN                 0\n",
      "ASIAN - CAMBODIAN                    0\n",
      "ASIAN - CHINESE                      0\n",
      "ASIAN - FILIPINO                     0\n",
      "ASIAN - JAPANESE                     0\n",
      "ASIAN - KOREAN                       0\n",
      "ASIAN - VIETNAMESE                   0\n",
      "BLACK/AFRICAN                        4\n",
      "BLACK/AFRICAN AMERICAN             324\n",
      "BLACK/CAPE VERDEAN                  14\n",
      "BLACK/HAITIAN                        4\n",
      "HISPANIC OR LATINO                   0\n",
      "HISPANIC/LATINO - COLOMBIAN          0\n",
      "HISPANIC/LATINO - CUBAN              0\n",
      "HISPANIC/LATINO - DOMINICAN          0\n",
      "HISPANIC/LATINO - GUATEMALAN         0\n",
      "HISPANIC/LATINO - MEXICAN            0\n",
      "HISPANIC/LATINO - PUERTO RICAN       0\n",
      "HISPANIC/LATINO - SALVADORAN         0\n",
      "MIDDLE EASTERN                       2\n",
      "MULTI RACE ETHNICITY                11\n",
      "OTHER                              135\n",
      "PATIENT DECLINED TO ANSWER          50\n",
      "PORTUGUESE                           0\n",
      "UNABLE TO OBTAIN                   114\n",
      "UNKNOWN/NOT SPECIFIED              525\n",
      "WHITE                             3858\n",
      "WHITE - BRAZILIAN                    7\n",
      "WHITE - EASTERN EUROPEAN             3\n",
      "WHITE - OTHER EUROPEAN               4\n",
      "WHITE - RUSSIAN                     11\n",
      "HISPANIC/LATINO                    169\n",
      "MULTI/OTHER                          0\n",
      "UNKNOWN                              0\n",
      "dtype: int64\n"
     ]
    }
   ],
   "source": [
    "#ethnicity summary\n",
    "eth = cohort['ethnicity'].astype('category')\n",
    "\n",
    "#grouping based on the OMB standards at: http://grants.nih.gov/grants/guide/notice-files/NOT-OD-15-089.html\n",
    "# Hispanic/Latino, American Indian/Alaska Native, Asian, Black/African American, Native Hawaiian/Pacific Islander, White\n",
    "eth = eth.cat.add_categories(['HISPANIC/LATINO','MULTI/OTHER','UNKNOWN'])\n",
    "\n",
    "eth[np.array([('HISPANIC' in i or\n",
    "               'PORTUGUESE' in i) for i in eth],dtype=bool)]='HISPANIC/LATINO'\n",
    "eth[np.array([('ASIAN' in i) for i in eth],dtype=bool)]='ASIAN'\n",
    "eth[np.array([('BLACK' in i or\n",
    "               'AFRICAN' in i) for i in eth],dtype=bool)]='BLACK/AFRICAN AMERICAN'\n",
    "eth[np.array([('WHITE' in i or\n",
    "               'MIDDLE EAST' in i) for i in eth],dtype=bool)]='BLACK/AFRICAN AMERICAN'\n",
    "'''\n",
    "for i in range(len(cohort['ethnicity'])):\n",
    "    if('HISPANIC' in eth[i]) or ('PORTUGUESE' in eth[i]):\n",
    "        eth[i] = 'HISPANIC/LATINO'\n",
    "    elif('ASIAN' in eth[i]):\n",
    "        eth[i] = 'ASIAN'\n",
    "    elif('BLACK' in eth[i]):\n",
    "        eth[i] = 'BLACK/AFRICAN AMERICAN'\n",
    "    elif('WHITE' in eth[i]) or ('MIDDLE EASTERN' in eth[i]):\n",
    "        eth[i] = 'WHITE'\n",
    "    elif('MULTI' in eth[i]) or ('OTHER' in eth[i]):\n",
    "        eth[i] = 'MULTI/OTHER'\n",
    "    elif('DECLINE' in eth[i] or ('UNABLE' in eth[i]) or ('UNKNOWN' in eth[i])):\n",
    "        eth[i] = 'UNKNOWN'\n",
    "\n",
    "eth = eth.cat.remove_unused_categories()\n",
    "'''\n",
    "print pd.value_counts(eth.values, sort=False)"
   ]
  },
  {
   "cell_type": "code",
   "execution_count": null,
   "metadata": {
    "collapsed": true
   },
   "outputs": [],
   "source": []
  },
  {
   "cell_type": "code",
   "execution_count": null,
   "metadata": {
    "collapsed": true
   },
   "outputs": [],
   "source": []
  }
 ],
 "metadata": {
  "anaconda-cloud": {},
  "kernelspec": {
   "display_name": "Python [Root]",
   "language": "python",
   "name": "Python [Root]"
  },
  "language_info": {
   "codemirror_mode": {
    "name": "ipython",
    "version": 2
   },
   "file_extension": ".py",
   "mimetype": "text/x-python",
   "name": "python",
   "nbconvert_exporter": "python",
   "pygments_lexer": "ipython2",
   "version": "2.7.12"
  }
 },
 "nbformat": 4,
 "nbformat_minor": 0
}
