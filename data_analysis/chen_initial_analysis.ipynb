{
 "cells": [
  {
   "cell_type": "code",
   "execution_count": null,
   "metadata": {
    "collapsed": false
   },
   "outputs": [],
   "source": [
    "import pandas as pd\n",
    "pd.options.mode.chained_assignment = None\n",
    "\n",
    "import numpy as np\n",
    "import matplotlib.pyplot as plt\n",
    "\n",
    "# load in data\n",
    "data_path='../data_extraction/data/'"
   ]
  },
  {
   "cell_type": "code",
   "execution_count": null,
   "metadata": {
    "collapsed": false
   },
   "outputs": [],
   "source": [
    "cohort = pd.read_table(data_path+'cohort.tsv')"
   ]
  },
  {
   "cell_type": "code",
   "execution_count": null,
   "metadata": {
    "collapsed": false
   },
   "outputs": [],
   "source": [
    "# numerical variable summaries\n",
    "#print(cohort[['age','los','max_lactate','vaso_frac']].describe())"
   ]
  },
  {
   "cell_type": "code",
   "execution_count": null,
   "metadata": {
    "collapsed": false
   },
   "outputs": [],
   "source": []
  },
  {
   "cell_type": "code",
   "execution_count": null,
   "metadata": {
    "collapsed": false
   },
   "outputs": [],
   "source": [
    "icustay = 202634 # empty weight\n",
    "patientweight = cohort.loc[cohort['icustay_id'] == icustay]['weight']\n",
    "#patientweight.isnan\n",
    "type(patientweight)\n",
    "patientweight.values[0]\n",
    "if np.isnan(patientweight.values[0]):\n",
    "    print('yes')\n"
   ]
  },
  {
   "cell_type": "code",
   "execution_count": null,
   "metadata": {
    "collapsed": false
   },
   "outputs": [],
   "source": [
    "# Process urine values \n",
    "\n",
    "urine = pd.read_csv(data_path+'urine.csv')\n",
    "\n",
    "#urine['four_hour_block'] = pd.Series((urine.min_from_intime/interval).astype(int), index=maps.index)\n",
    "\n",
    "icustays = np.unique(urine['icustay_id'])\n",
    "\n",
    "# For each icustay key, a list of: [array of urine output volumes in 4h windows, starting time of windows, AKI window indices]  \n",
    "urine_4h = {}\n",
    "# Binary outcome of aki or not for each icustay. \n",
    "aki_urine ={} #np.zeros(len(icustays)) \n",
    "\n",
    "for icustay in icustays:\n",
    "    # Get all the urine values and times for the icustay_id \n",
    "    u= np.array(urine.loc[urine['icustay_id'] == icustay]['value']) \n",
    "    t = np.array(urine.loc[urine['icustay_id'] == icustay]['min_from_intime'])\n",
    "    \n",
    "    # Keep the time of first urine measurement, and get relative times. \n",
    "    t0=t[0]\n",
    "    t=t-t0\n",
    "    \n",
    "    # Calculate urine output in 4 hour blocks starting from the time of first urine measurement. \n",
    "    # Hence the first urine measurement will not be used.\n",
    "    \n",
    "    # Urine volumes for four hour blocks, starting from the first measurement extending to or before the last urine measurement. \n",
    "    # Urine output for the block before the first measurement is not calculated.\n",
    "    nblocks = int(np.ceil(t[-1]/ 240))\n",
    "    urine_blocks = np.zeros(nblocks)\n",
    "    \n",
    "    # For every urine measurement, add the proportionate volume to the appropriate 4h windows. \n",
    "    for ind in range(1, len(u)):\n",
    "        \n",
    "        # Which 4h block index the measurement falls in \n",
    "        blocknum = int(t[ind]/ 240 )\n",
    "        if blocknum == nblocks:\n",
    "            blocknum = blocknum-1\n",
    "        \n",
    "        # Left time limit of the rectangle to calculate urine volume proportion that fits into block. \n",
    "        leftlimit_t = max(t[ind-1], int(t[ind]/240)*240)\n",
    "        \n",
    "        # The proportion of urine volume that belongs to the current 4h block\n",
    "        propcurrent = (t[ind]-leftlimit_t)/(t[ind]-t[ind-1])\n",
    "        \n",
    "        urine_blocks[blocknum] += u[ind]*propcurrent\n",
    "        \n",
    "        if (leftlimit_t!=t[ind-1])&(blocknum>0) :\n",
    "            urine_blocks[blocknum-1] += u[ind]*(1-propcurrent)\n",
    "                        \n",
    "    \n",
    "    # Get the patient weight to calculate RIFLE criteria. \n",
    "    patientweight = cohort.loc[cohort['icustay_id'] == icustay]['weight'].values\n",
    "    if np.isnan(patientweight[0]):\n",
    "        patientweight=50 # temporary                          \n",
    "            \n",
    "    # Whether the urine block meets the I criteria\n",
    "    urine_blocks_I = urine_blocks < (2 * patientweight)      \n",
    "    print(urine_blocks)\n",
    "    print('patient weight: ', patientweight)\n",
    "    print('patient weight*2: ', 2*patientweight)\n",
    "    print(urine_blocks_I)\n",
    "        \n",
    "    \n",
    "    # Find 3 consecutive 4h blocks that satisfy the I kidney injury criteria   \n",
    "    aki_urine[icustay]=0\n",
    "    b=0\n",
    "    first_aki_block=[]\n",
    "    while (b<nblocks-2) & (aki_urine[icustay]==0):\n",
    "        if np.array_equal(urine_blocks_I[b:(b+3)], [True, True, True]):\n",
    "            aki_urine[icustay]=1\n",
    "            first_aki_block=b\n",
    "            print('got one')\n",
    "        b+=1\n",
    "    \n",
    "    urine_4h[icustay]=[urine_blocks, t0, first_aki_block]\n",
    "    \n",
    "    raw_input(\"Press Enter\\n\\n\\n\")\n",
    "                "
   ]
  },
  {
   "cell_type": "code",
   "execution_count": null,
   "metadata": {
    "collapsed": false
   },
   "outputs": [],
   "source": [
    "urine_blocks[8]"
   ]
  },
  {
   "cell_type": "code",
   "execution_count": null,
   "metadata": {
    "collapsed": false
   },
   "outputs": [],
   "source": [
    "urine_4h"
   ]
  },
  {
   "cell_type": "code",
   "execution_count": null,
   "metadata": {
    "collapsed": false
   },
   "outputs": [],
   "source": [
    "#urine_4h\n",
    "aki_urine"
   ]
  },
  {
   "cell_type": "code",
   "execution_count": null,
   "metadata": {
    "collapsed": false
   },
   "outputs": [],
   "source": [
    "#[250, 500, 719]\n",
    "#[240, 480, 480]\n",
    "\n",
    "x=720\n",
    "int(x/240)*240\n"
   ]
  },
  {
   "cell_type": "code",
   "execution_count": null,
   "metadata": {
    "collapsed": false
   },
   "outputs": [],
   "source": [
    "# convert raw MAP readings to MAP features\n",
    "maps = pd.read_csv(data_path+'map.csv')\n",
    "interval = 60\n",
    "\n",
    "# average MAP for every hour\n",
    "maps['hour'] = pd.Series((maps.min_from_intime/interval).astype(int), index=maps.index)\n",
    "\n",
    "# get means for every hour with data present. \n",
    "mean_maps = maps.groupby(['icustay_id', 'hour'])['value'].mean()\n",
    "mean_maps = mean_maps.to_frame().reset_index().set_index(['icustay_id'])\n",
    "\n",
    "\n",
    "# interpolate MAPs for missing hours\n",
    "\n",
    "# For each icustay, \n",
    "min_hours = mean_maps.groupby([mean_maps.index.get_level_values(0)])['hour'].min()\n",
    "max_hours = mean_maps.groupby([mean_maps.index.get_level_values(0)])['hour'].max()\n",
    "\n",
    "interp_index = []\n",
    "for this_icustay in min_hours.index:\n",
    "    min_hour = min_hours.loc[this_icustay]\n",
    "    max_hour = max_hours.loc[this_icustay]\n",
    "    test =[hour for hour in np.arange(min_hour,max_hour+1)]\n",
    "    interp_index += [(this_icustay, hour) for hour in np.arange(min_hour,max_hour+1)]\n",
    "\n",
    "mean_maps = mean_maps.set_index(['hour'],append=True)\n",
    "interp_mean_maps = mean_maps.reindex(pd.MultiIndex.from_tuples(interp_index,names=['icustay_id','hour']))\n",
    "interp_mean_maps = interp_mean_maps['value'].interpolate(method='linear')\n",
    "interp_mean_maps = interp_mean_maps.to_frame().reset_index()\n",
    "\n",
    "# get percent of hours missing a MAP value\n",
    "missing_map = len(interp_mean_maps.index) - len(mean_maps.index)\n",
    "\n",
    "frac_missing = missing_map/float(len(interp_mean_maps.index))\n",
    "print(\"Fraction of hours missing MAP values:\", frac_missing)\n",
    "\n",
    "# get minimum MAP value per patient\n",
    "min_ind = interp_mean_maps.groupby('icustay_id')['value'].idxmin(skipna=True)\n",
    "min_maps = interp_mean_maps.loc[min_ind]\n",
    "\n",
    "# bin MAP values for first 72 hours\n",
    "map_72 = interp_mean_maps.loc[interp_mean_maps['hour']<72]\n",
    "\n",
    "map_cutoffs = np.append(np.arange(30,100,10),200)\n",
    "map_72['bins'] = pd.cut(map_72['value'], map_cutoffs)\n",
    "binned_min_maps = pd.cut(min_maps['value'], map_cutoffs)\n",
    "\n",
    "map_fracs = map_72.groupby('icustay_id')['bins'].value_counts(normalize=True)"
   ]
  },
  {
   "cell_type": "code",
   "execution_count": null,
   "metadata": {
    "collapsed": false
   },
   "outputs": [],
   "source": [
    "urine"
   ]
  },
  {
   "cell_type": "code",
   "execution_count": null,
   "metadata": {
    "collapsed": false
   },
   "outputs": [],
   "source": [
    "maps.head"
   ]
  },
  {
   "cell_type": "code",
   "execution_count": null,
   "metadata": {
    "collapsed": false
   },
   "outputs": [],
   "source": [
    "area=np.trapz([0,1,1], [0, 1.2, 5])\n",
    "area"
   ]
  },
  {
   "cell_type": "code",
   "execution_count": null,
   "metadata": {
    "collapsed": false
   },
   "outputs": [],
   "source": [
    "t=np.array([0,1,2,3])\n",
    "u=np.array([0,1,2,1])\n",
    "dt=np.diff(t)\n",
    "print(dt)\n",
    "\n"
   ]
  },
  {
   "cell_type": "code",
   "execution_count": null,
   "metadata": {
    "collapsed": false
   },
   "outputs": [],
   "source": [
    "area=np.dot(dt, u[1:])\n",
    "area"
   ]
  },
  {
   "cell_type": "code",
   "execution_count": null,
   "metadata": {
    "collapsed": true
   },
   "outputs": [],
   "source": [
    "a={20003: ['jack', [1,2,3]], 20002:['jill', [9,9]] }"
   ]
  },
  {
   "cell_type": "code",
   "execution_count": null,
   "metadata": {
    "collapsed": false
   },
   "outputs": [],
   "source": []
  },
  {
   "cell_type": "code",
   "execution_count": null,
   "metadata": {
    "collapsed": true
   },
   "outputs": [],
   "source": []
  }
 ],
 "metadata": {
  "anaconda-cloud": {},
  "kernelspec": {
   "display_name": "Python [conda env:python2]",
   "language": "python",
   "name": "conda-env-python2-py"
  },
  "language_info": {
   "codemirror_mode": {
    "name": "ipython",
    "version": 2
   },
   "file_extension": ".py",
   "mimetype": "text/x-python",
   "name": "python",
   "nbconvert_exporter": "python",
   "pygments_lexer": "ipython2",
   "version": "2.7.12"
  }
 },
 "nbformat": 4,
 "nbformat_minor": 0
}
