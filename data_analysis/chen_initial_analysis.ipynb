{
 "cells": [
  {
   "cell_type": "code",
   "execution_count": null,
   "metadata": {
    "collapsed": false
   },
   "outputs": [],
   "source": [
    "%matplotlib inline\n",
    "import pandas as pd\n",
    "pd.options.mode.chained_assignment = None\n",
    "\n",
    "import numpy as np\n",
    "import matplotlib.pyplot as plt\n",
    "import statsmodels.api as sm\n",
    "\n",
    "# load in data\n",
    "data_path='../data_extraction/data/'\n",
    "cohort = pd.read_table(data_path+'cohort.tsv')"
   ]
  },
  {
   "cell_type": "code",
   "execution_count": null,
   "metadata": {
    "collapsed": false
   },
   "outputs": [],
   "source": [
    "#weightcovariates\n",
    "#help(model_with_height.predict)\n",
    "#df.ix[df.my_channel > 20000, 'my_channel'] = 0\n",
    "#cohort.ix[cohort.index == 254478, 'weight']"
   ]
  },
  {
   "cell_type": "code",
   "execution_count": null,
   "metadata": {
    "collapsed": false
   },
   "outputs": [],
   "source": [
    "# Multiple regression for weight based on age, sex, height if present.  \n",
    "\n",
    "cohort.set_index('icustay_id', inplace=True)\n",
    "cohort.ix[cohort.age > 90, 'age']=90\n",
    "\n",
    "weightcovariates = cohort[['age','gender','height', 'weight']]\n",
    "weightcovariates['agesquared'] = weightcovariates['age']**2\n",
    "#weightcovariates = weightcovariates.dropna(subset=['weight'])\n",
    "weightcovariates['gender'] = pd.Categorical(weightcovariates['gender'])\n",
    "weightcovariates['gender'] = weightcovariates.gender.cat.codes\n",
    "\n",
    "# Split into training (no weight) and testing. \n",
    "wc_train = weightcovariates.loc[weightcovariates['weight'].notnull()]\n",
    "wc_test = weightcovariates.loc[weightcovariates['weight'].isnull()]\n",
    "\n",
    "# Split training data into subsets with and without height. Train 2 models. \n",
    "c_with_height = wc_train.loc[wc_train['height'].notnull()][['age','agesquared', 'gender','height']]\n",
    "c_without_height = wc_train.loc[wc_train['height'].isnull()][['age', 'agesquared', 'gender']]\n",
    "\n",
    "w_with_height = wc_train.loc[wc_train['height'].notnull()]['weight']\n",
    "w_without_height= wc_train.loc[wc_train['height'].isnull()]['weight']\n",
    "\n",
    "# Split testing data into subsets with and without height. \n",
    "c_with_height_test = wc_test.loc[wc_test['height'].notnull()][['age','agesquared','gender','height']]\n",
    "c_without_height_test = wc_test.loc[wc_test['height'].isnull()][['age','agesquared','gender']]\n",
    "\n",
    "# Train the model using the training sets\n",
    "model_with_height = sm.OLS(w_with_height, c_with_height)\n",
    "model_without_height = sm.OLS(w_without_height, c_without_height)\n",
    "results_with_height = model_with_height.fit()\n",
    "results_without_height = model_without_height.fit()\n",
    "\n",
    "# Predict the missing weights \n",
    "w_with_height_predict = results_with_height.predict(c_with_height_test) # 56 to 93kg\n",
    "w_without_height_predict = results_without_height.predict(c_without_height_test) # 42 to 88kg. Seems reasonable. "
   ]
  },
  {
   "cell_type": "code",
   "execution_count": null,
   "metadata": {
    "collapsed": false
   },
   "outputs": [],
   "source": [
    "# Fill in the missing weights\n",
    "\n",
    "for i in range(0, len(w_with_height_predict)):\n",
    "    icu = c_with_height_test.iloc[[i]].index[0]\n",
    "    cohort.ix[cohort.index == icu, 'weight'] = w_with_height_predict[i]\n",
    "    #print(cohort.ix[cohort.index == icu, ['height', 'weight']])\n",
    "for i in range(0, len(w_without_height_predict)):\n",
    "    icu = c_without_height_test.iloc[[i]].index[0]\n",
    "    cohort.ix[cohort.index == icu, 'weight'] = w_without_height_predict[i]    \n",
    "\n",
    "#allweights = np.array(cohort['weight'])   \n",
    "#np.where(np.isnan(allweights) == True)  # checking no more nans"
   ]
  },
  {
   "cell_type": "code",
   "execution_count": null,
   "metadata": {
    "collapsed": false
   },
   "outputs": [],
   "source": [
    "# Process urine values \n",
    "\n",
    "urine = pd.read_csv(data_path+'urine.csv')\n",
    "urine = urine.loc[urine['value'] < 5000]\n",
    "\n",
    "icustays = np.unique(urine['icustay_id'])\n",
    "\n",
    "# For each icustay key, the array of urine output volumes in 4h windows\n",
    "urine_4h = {}\n",
    "# Binary outcome of aki or not for each icustay, and starting time of 4h window aki was identified in  \n",
    "aki_urine = np.zeros([len(icustays), 3], dtype='int') \n",
    "\n",
    "\n",
    "for icuind in range(0, len(icustays)):\n",
    "    icustay = icustays[icuind]\n",
    "    aki_urine[icuind,0]=icustay\n",
    "    \n",
    "    # Get all the urine values and times for the icustay_id \n",
    "    u= np.array(urine.loc[urine['icustay_id'] == icustay]['value']) \n",
    "    t = np.array(urine.loc[urine['icustay_id'] == icustay]['min_from_intime'])\n",
    "    \n",
    "    # Keep the time of first urine measurement, and get relative times. \n",
    "    t0=t[0]\n",
    "    t=t-t0\n",
    "    \n",
    "    # Calculate urine output in 4 hour blocks starting from the time of first urine measurement. \n",
    "    # Hence the first urine measurement will not be used.\n",
    "    \n",
    "    # Urine volumes for four hour blocks, starting from the first measurement extending to or before the last urine measurement. \n",
    "    # Urine output for the block before the first measurement is not calculated.\n",
    "    nblocks = int(np.ceil(t[-1]/ 240))\n",
    "    urine_blocks = np.zeros(nblocks)\n",
    "    \n",
    "    # For every urine measurement, add the proportionate volume to the appropriate 4h windows. \n",
    "    for ind in range(1, len(u)):\n",
    "        \n",
    "        # Which 4h block index the measurement falls in \n",
    "        blocknum = int(t[ind]/ 240 )\n",
    "        if blocknum == nblocks:\n",
    "            blocknum = blocknum-1\n",
    "        \n",
    "        # Left time limit of the rectangle to calculate urine volume proportion that fits into block. \n",
    "        leftlimit_t = max(t[ind-1], int(t[ind]/240)*240)\n",
    "        # The proportion of urine volume that belongs to the current 4h block\n",
    "        propcurrent = (t[ind]-leftlimit_t)/(t[ind]-t[ind-1])\n",
    "        urine_blocks[blocknum] += u[ind]*propcurrent\n",
    "        \n",
    "        # Add the proportion of urine volume to previous 4h blocks\n",
    "        while (leftlimit_t!=t[ind-1]):\n",
    "            blocknum= blocknum - 1\n",
    "            leftlimit_t = max(t[ind-1], blocknum*240)\n",
    "            propcurrent = ((blocknum+1)*240-leftlimit_t)/(t[ind]-t[ind-1])\n",
    "            urine_blocks[blocknum] += u[ind]*propcurrent\n",
    "    \n",
    "    # Get the patient weight to calculate RIFLE criteria. \n",
    "    patientweight = cohort.loc[cohort.index == icustay]['weight'].values                       \n",
    "            \n",
    "    # Whether the urine block meets the I criteria\n",
    "    urine_blocks_I = urine_blocks < (2 * patientweight)      \n",
    "        \n",
    "    # Find 3 consecutive 4h blocks that satisfy the I kidney injury criteria   \n",
    "    aki_urine[icuind, 1]=0\n",
    "    b=0\n",
    "    while (b<nblocks-2) & (aki_urine[icuind, 1] == 0):\n",
    "        if np.array_equal(urine_blocks_I[b:(b+3)], [True, True, True]):\n",
    "            aki_urine[icuind, 1]=1\n",
    "            # The starting time of the aki onset window\n",
    "            aki_urine[icuind, 2] = int(b*240+t0)\n",
    "        b+=1\n",
    "    \n",
    "    #  ----------  Optional: Save the 4h urine volumes. Very slow ------------- #   \n",
    "    #urine_4h[icustay]=urine_blocks\n",
    "    \n",
    "    \n",
    "# Convert to pandas dataframe\n",
    "aki_urine_frame = pd.DataFrame(aki_urine[:,1:], index=aki_urine[:,0], columns=['aki_result', 'aki_onset_t'])\n",
    "                "
   ]
  },
  {
   "cell_type": "code",
   "execution_count": null,
   "metadata": {
    "collapsed": false
   },
   "outputs": [],
   "source": [
    "# The aki results of each icustay\n",
    "aki_urine_frame"
   ]
  },
  {
   "cell_type": "code",
   "execution_count": null,
   "metadata": {
    "collapsed": false
   },
   "outputs": [],
   "source": [
    "print(\"Number of urine aki patients: %s out of %s\" % (sum(aki_urine[:,1]), len(aki_urine)))"
   ]
  },
  {
   "cell_type": "code",
   "execution_count": null,
   "metadata": {
    "collapsed": false
   },
   "outputs": [],
   "source": [
    "# The 4 hour urine volumes (in a dictionary) if didn't comment out \n",
    "#urine_4h"
   ]
  },
  {
   "cell_type": "code",
   "execution_count": null,
   "metadata": {
    "collapsed": true
   },
   "outputs": [],
   "source": []
  }
 ],
 "metadata": {
  "anaconda-cloud": {},
  "kernelspec": {
   "display_name": "Python [conda env:python2]",
   "language": "python",
   "name": "conda-env-python2-py"
  },
  "language_info": {
   "codemirror_mode": {
    "name": "ipython",
    "version": 2
   },
   "file_extension": ".py",
   "mimetype": "text/x-python",
   "name": "python",
   "nbconvert_exporter": "python",
   "pygments_lexer": "ipython2",
   "version": "2.7.12"
  }
 },
 "nbformat": 4,
 "nbformat_minor": 0
}
