{
 "cells": [
  {
   "cell_type": "code",
   "execution_count": null,
   "metadata": {
    "collapsed": false
   },
   "outputs": [],
   "source": [
    "import pandas as pd\n",
    "pd.options.mode.chained_assignment = None\n",
    "\n",
    "import numpy as np\n",
    "import matplotlib.pyplot as plt\n",
    "\n",
    "# load in data\n",
    "data_path='../data_extraction/data/'\n",
    "\n",
    "cohort = pd.read_table(data_path+'cohort.tsv')"
   ]
  },
  {
   "cell_type": "code",
   "execution_count": null,
   "metadata": {
    "collapsed": false
   },
   "outputs": [],
   "source": [
    "# Process urine values \n",
    "\n",
    "urine = pd.read_csv(data_path+'urine.csv')\n",
    "\n",
    "\n",
    "icustays = np.unique(urine['icustay_id'])\n",
    "\n",
    "# For each icustay key, the array of urine output volumes in 4h windows\n",
    "urine_4h = {}\n",
    "# Binary outcome of aki or not for each icustay, and starting time of 4h window aki was identified in  \n",
    "aki_urine = np.zeros([len(icustays), 3], dtype='int') \n",
    "\n",
    "\n",
    "for icuind in range(0, len(icustays)):\n",
    "    icustay = icustays[icuind]\n",
    "    aki_urine[icuind,0]=icustay\n",
    "    \n",
    "    # Get all the urine values and times for the icustay_id \n",
    "    u= np.array(urine.loc[urine['icustay_id'] == icustay]['value']) \n",
    "    t = np.array(urine.loc[urine['icustay_id'] == icustay]['min_from_intime'])\n",
    "    \n",
    "    # Keep the time of first urine measurement, and get relative times. \n",
    "    t0=t[0]\n",
    "    t=t-t0\n",
    "    \n",
    "    # Calculate urine output in 4 hour blocks starting from the time of first urine measurement. \n",
    "    # Hence the first urine measurement will not be used.\n",
    "    \n",
    "    # Urine volumes for four hour blocks, starting from the first measurement extending to or before the last urine measurement. \n",
    "    # Urine output for the block before the first measurement is not calculated.\n",
    "    nblocks = int(np.ceil(t[-1]/ 240))\n",
    "    urine_blocks = np.zeros(nblocks)\n",
    "    \n",
    "    # For every urine measurement, add the proportionate volume to the appropriate 4h windows. \n",
    "    for ind in range(1, len(u)):\n",
    "        \n",
    "        # Which 4h block index the measurement falls in \n",
    "        blocknum = int(t[ind]/ 240 )\n",
    "        if blocknum == nblocks:\n",
    "            blocknum = blocknum-1\n",
    "        \n",
    "        # Left time limit of the rectangle to calculate urine volume proportion that fits into block. \n",
    "        leftlimit_t = max(t[ind-1], int(t[ind]/240)*240)\n",
    "        \n",
    "        # The proportion of urine volume that belongs to the current 4h block\n",
    "        propcurrent = (t[ind]-leftlimit_t)/(t[ind]-t[ind-1])\n",
    "        \n",
    "        urine_blocks[blocknum] += u[ind]*propcurrent\n",
    "        \n",
    "        if (leftlimit_t!=t[ind-1])&(blocknum>0) :\n",
    "            urine_blocks[blocknum-1] += u[ind]*(1-propcurrent)\n",
    "                        \n",
    "    \n",
    "    # Get the patient weight to calculate RIFLE criteria. \n",
    "    patientweight = cohort.loc[cohort['icustay_id'] == icustay]['weight'].values\n",
    "    if np.isnan(patientweight[0]):\n",
    "        patientweight=50 # temporary                          \n",
    "            \n",
    "    # Whether the urine block meets the I criteria\n",
    "    urine_blocks_I = urine_blocks < (2 * patientweight)      \n",
    "        \n",
    "    # Find 3 consecutive 4h blocks that satisfy the I kidney injury criteria   \n",
    "    aki_urine[icuind, 1]=0\n",
    "    b=0\n",
    "    while (b<nblocks-2) & (aki_urine[icuind, 1] == 0):\n",
    "        if np.array_equal(urine_blocks_I[b:(b+3)], [True, True, True]):\n",
    "            aki_urine[icuind, 1]=1\n",
    "            # The starting time of the aki onset window\n",
    "            aki_urine[icuind, 2] = int(b*240+t0)\n",
    "        b+=1\n",
    "    \n",
    "    urine_4h[icustay]=urine_blocks\n",
    "\n",
    "    \n",
    "aki_urine = pd.DataFrame(aki_urine, columns=['icustay_id', 'aki_result', 'aki_onset_t'])\n",
    "                "
   ]
  },
  {
   "cell_type": "code",
   "execution_count": null,
   "metadata": {
    "collapsed": false
   },
   "outputs": [],
   "source": [
    "\n"
   ]
  },
  {
   "cell_type": "code",
   "execution_count": null,
   "metadata": {
    "collapsed": false
   },
   "outputs": [],
   "source": [
    "# The aki results of each icustay\n",
    "aki_urine"
   ]
  },
  {
   "cell_type": "code",
   "execution_count": null,
   "metadata": {
    "collapsed": false
   },
   "outputs": [],
   "source": [
    "# The 4 hour urine volumes (in a dictionary)\n",
    "urine_4h"
   ]
  },
  {
   "cell_type": "code",
   "execution_count": null,
   "metadata": {
    "collapsed": true
   },
   "outputs": [],
   "source": []
  }
 ],
 "metadata": {
  "anaconda-cloud": {},
  "kernelspec": {
   "display_name": "Python [conda env:python2]",
   "language": "python",
   "name": "conda-env-python2-py"
  },
  "language_info": {
   "codemirror_mode": {
    "name": "ipython",
    "version": 2
   },
   "file_extension": ".py",
   "mimetype": "text/x-python",
   "name": "python",
   "nbconvert_exporter": "python",
   "pygments_lexer": "ipython2",
   "version": "2.7.12"
  }
 },
 "nbformat": 4,
 "nbformat_minor": 0
}
