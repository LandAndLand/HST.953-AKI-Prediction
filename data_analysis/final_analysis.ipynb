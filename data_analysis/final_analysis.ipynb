{
 "cells": [
  {
   "cell_type": "code",
   "execution_count": 3,
   "metadata": {
    "collapsed": false
   },
   "outputs": [],
   "source": [
    "%matplotlib inline\n",
    "import pandas as pd\n",
    "pd.options.mode.chained_assignment = None\n",
    "\n",
    "import numpy as np\n",
    "import matplotlib.pyplot as plt\n",
    "import statsmodels.api as sm\n",
    "from sklearn.metrics import roc_curve, auc\n",
    "\n",
    "import py_compile\n",
    "py_compile.compile('process.py')\n",
    "from process import *\n",
    "\n",
    "# load in data\n",
    "data_path='../data_extraction/data/'\n",
    "\n",
    "cohort = pd.read_table(data_path+'cohort.tsv')\n",
    "\n",
    "cohort.ix[cohort.age > 90, 'age']=90\n",
    "\n",
    "urine = pd.read_csv(data_path+'urine.csv')\n",
    "urine = urine.loc[urine['value'] < 5000]\n",
    "\n",
    "maps = pd.read_csv(data_path+'map.csv')\n",
    "creatinine = pd.read_csv(data_path+'creatinine.csv')\n",
    "admission_creatinine = pd.read_csv(data_path+'admission_creatinine.csv')\n"
   ]
  },
  {
   "cell_type": "code",
   "execution_count": 2,
   "metadata": {
    "collapsed": false
   },
   "outputs": [],
   "source": [
    "# Interpolate the weights\n",
    "\n",
    "cohort.set_index('icustay_id', inplace=True)\n",
    "\n",
    "cohort = interpolateweights(cohort)\n",
    "\n",
    "# Compute the urine blocks\n",
    "aki_urine = calculateurineaki(urine, cohort)\n",
    "cohort = pd.read_table(data_path+'cohort.tsv')"
   ]
  },
  {
   "cell_type": "code",
   "execution_count": 4,
   "metadata": {
    "collapsed": false
   },
   "outputs": [],
   "source": [
    "# Get ethnicities \n",
    "eth = geteth(cohort)"
   ]
  },
  {
   "cell_type": "code",
   "execution_count": 5,
   "metadata": {
    "collapsed": false
   },
   "outputs": [],
   "source": [
    "# clean the lactate\n",
    "cohort = cohort.loc[cohort['max_lactate'] < 100]\n",
    "cohort = cohort[pd.notnull(cohort['max_lactate'])]"
   ]
  },
  {
   "cell_type": "code",
   "execution_count": 6,
   "metadata": {
    "collapsed": false
   },
   "outputs": [
    {
     "name": "stdout",
     "output_type": "stream",
     "text": [
      "Fraction of hours missing MAP values: 0.0727082162255\n"
     ]
    }
   ],
   "source": [
    "# Get map features \n",
    "map_cutoffs = np.append(np.arange(30,100,10),200)\n",
    "mean_maps, min_maps, map_fracs = getmapfeatures(maps,map_cutoffs)"
   ]
  },
  {
   "cell_type": "code",
   "execution_count": 8,
   "metadata": {
    "collapsed": false
   },
   "outputs": [],
   "source": [
    "# Process creatinine values and calculate aki \n",
    "creat_summary = analyzecreatinine(creatinine, admission_creatinine)"
   ]
  },
  {
   "cell_type": "code",
   "execution_count": 9,
   "metadata": {
    "collapsed": false
   },
   "outputs": [],
   "source": [
    "# Get the logistic regression data\n",
    "lr_data, aki_dataset, non_aki_dataset = getlrdata(cohort, eth, min_maps, map_fracs, creat_summary, aki_urine)"
   ]
  },
  {
   "cell_type": "code",
   "execution_count": 10,
   "metadata": {
    "collapsed": false
   },
   "outputs": [
    {
     "name": "stdout",
     "output_type": "stream",
     "text": [
      "------------------------------- AKI Patients -------------------------------\n",
      "============================================================================\n",
      "               age          los  max_lactate    vaso_frac      min_map\n",
      "count  2942.000000  2942.000000  2942.000000  2942.000000  2942.000000\n",
      "mean     65.531381    12.980428     3.340445     0.159124    46.299796\n",
      "std      16.284654    11.297079     2.823739     0.228874     9.410704\n",
      "min      18.340391     3.001000     0.500000     0.000000    30.333300\n",
      "25%      54.343115     5.344375     1.600000     0.000000    39.000000\n",
      "50%      67.386841     9.314600     2.400000     0.042935    46.000000\n",
      "75%      78.344660    16.317650     4.000000     0.243792    52.000000\n",
      "max      90.000000   173.072500    27.700000     0.995077   102.000000\n",
      "\n",
      "gender:\n",
      "M    1502\n",
      "F    1440\n",
      "dtype: int64\n",
      "\n",
      "M    0.510537\n",
      "F    0.489463\n",
      "dtype: float64\n",
      "\n",
      "ethnicity:\n",
      "WHITE                            2218\n",
      "UNKNOWN                           340\n",
      "BLACK/AFRICAN AMERICAN            194\n",
      "HISPANIC/LATINO                    79\n",
      "MULTI/OTHER                        66\n",
      "ASIAN                              44\n",
      "AMERICAN INDIAN/ALASKA NATIVE       1\n",
      "dtype: int64\n",
      "\n",
      "WHITE                            0.753909\n",
      "UNKNOWN                          0.115568\n",
      "BLACK/AFRICAN AMERICAN           0.065942\n",
      "HISPANIC/LATINO                  0.026852\n",
      "MULTI/OTHER                      0.022434\n",
      "ASIAN                            0.014956\n",
      "AMERICAN INDIAN/ALASKA NATIVE    0.000340\n",
      "dtype: float64\n",
      "\n",
      "----------------------------- Non-AKI Patients -----------------------------\n",
      "============================================================================\n",
      "               age          los  max_lactate    vaso_frac      min_map\n",
      "count  1721.000000  1721.000000  1721.000000  1721.000000  1721.000000\n",
      "mean     60.951040     8.733820     2.877833     0.114376    50.889406\n",
      "std      17.449923     6.904383     2.271286     0.188417     9.832327\n",
      "min      18.138720     3.001100     0.500000     0.000000    30.333300\n",
      "25%      49.611912     4.113800     1.500000     0.000000    44.000000\n",
      "50%      61.926837     6.247000     2.200000     0.000000    51.000000\n",
      "75%      75.072540    10.747100     3.600000     0.164061    57.000000\n",
      "max      90.000000    59.741400    32.000000     0.965293    86.000000\n",
      "\n",
      "gender:\n",
      "M    925\n",
      "F    796\n",
      "dtype: int64\n",
      "\n",
      "M    0.537478\n",
      "F    0.462522\n",
      "dtype: float64\n",
      "\n",
      "ethnicity:\n",
      "WHITE                            1225\n",
      "UNKNOWN                           198\n",
      "BLACK/AFRICAN AMERICAN            117\n",
      "HISPANIC/LATINO                    70\n",
      "ASIAN                              59\n",
      "MULTI/OTHER                        51\n",
      "AMERICAN INDIAN/ALASKA NATIVE       1\n",
      "dtype: int64\n",
      "\n",
      "WHITE                            0.711795\n",
      "UNKNOWN                          0.115049\n",
      "BLACK/AFRICAN AMERICAN           0.067984\n",
      "HISPANIC/LATINO                  0.040674\n",
      "ASIAN                            0.034282\n",
      "MULTI/OTHER                      0.029634\n",
      "AMERICAN INDIAN/ALASKA NATIVE    0.000581\n",
      "dtype: float64\n",
      "\n",
      "------------------------------- All Patients -------------------------------\n",
      "============================================================================\n",
      "               age          los  max_lactate    vaso_frac      min_map\n",
      "count  4663.000000  4663.000000  4663.000000  4663.000000  4663.000000\n",
      "mean     63.840889    11.413108     3.169706     0.142608    47.993709\n",
      "std      16.867791    10.114284     2.642567     0.215893     9.820478\n",
      "min      18.138720     3.001000     0.500000     0.000000    30.333300\n",
      "25%      52.653453     4.839400     1.500000     0.000000    41.000000\n",
      "50%      65.742741     8.061900     2.300000     0.023877    48.000000\n",
      "75%      77.451556    14.076100     3.850000     0.217292    54.000000\n",
      "max      90.000000   173.072500    32.000000     0.995077   102.000000\n",
      "\n",
      "gender:\n",
      "M    2427\n",
      "F    2236\n",
      "dtype: int64\n",
      "\n",
      "M    0.52048\n",
      "F    0.47952\n",
      "dtype: float64\n",
      "\n",
      "ethnicity:\n",
      "WHITE                            3443\n",
      "UNKNOWN                           538\n",
      "BLACK/AFRICAN AMERICAN            311\n",
      "HISPANIC/LATINO                   149\n",
      "MULTI/OTHER                       117\n",
      "ASIAN                             103\n",
      "AMERICAN INDIAN/ALASKA NATIVE       2\n",
      "dtype: int64\n",
      "\n",
      "WHITE                            0.738366\n",
      "UNKNOWN                          0.115376\n",
      "BLACK/AFRICAN AMERICAN           0.066695\n",
      "HISPANIC/LATINO                  0.031954\n",
      "MULTI/OTHER                      0.025091\n",
      "ASIAN                            0.022089\n",
      "AMERICAN INDIAN/ALASKA NATIVE    0.000429\n",
      "dtype: float64\n",
      "\n"
     ]
    }
   ],
   "source": [
    "# Summarize results\n",
    "\n",
    "#AKI\n",
    "print \"------------------------------- AKI Patients -------------------------------\"\n",
    "print \"============================================================================\"\n",
    "get_summary(aki_dataset)\n",
    "\n",
    "#Non-AKI\n",
    "print \"----------------------------- Non-AKI Patients -----------------------------\"\n",
    "print \"============================================================================\"\n",
    "get_summary(non_aki_dataset)\n",
    "\n",
    "#Overall\n",
    "print \"------------------------------- All Patients -------------------------------\"\n",
    "print \"============================================================================\"\n",
    "get_summary(lr_data)"
   ]
  },
  {
   "cell_type": "code",
   "execution_count": 11,
   "metadata": {
    "collapsed": false
   },
   "outputs": [
    {
     "data": {
      "image/png": "[encoded data removed]",
      "text/plain": [
       "<matplotlib.figure.Figure at 0x10f916390>"
      ]
     },
     "metadata": {},
     "output_type": "display_data"
    }
   ],
   "source": [
    "# Look at MAP split between AKI and Non-AKI subsets\n",
    "bins = np.arange(20,80,1)\n",
    "\n",
    "aki_dataset['min_map'].hist(alpha=0.5, bins = bins, label='AKI',normed=True)\n",
    "non_aki_dataset['min_map'].hist(alpha=0.5, bins = bins, label='Non-AKI',normed=True)\n",
    "\n",
    "plt.legend(loc='upper right')\n",
    "plt.xlabel('Minimum Achieved MAP')\n",
    "plt.ylabel('Fraction of Patients')\n",
    "plt.show()"
   ]
  },
  {
   "cell_type": "code",
   "execution_count": 12,
   "metadata": {
    "collapsed": false
   },
   "outputs": [
    {
     "name": "stdout",
     "output_type": "stream",
     "text": [
      "        (30, 40]    (40, 50]     (50, 60]     (60, 70]     (70, 80]  \\\n",
      "count  96.000000  571.000000  2030.000000  2741.000000  2912.000000   \n",
      "mean    0.017047    0.035573     0.100947     0.260219     0.294333   \n",
      "std     0.015002    0.040624     0.108725     0.168428     0.137958   \n",
      "min     0.014085    0.014085     0.014085     0.014085     0.014085   \n",
      "25%     0.014085    0.014085     0.028169     0.112676     0.197183   \n",
      "50%     0.014085    0.014493     0.056338     0.239437     0.295775   \n",
      "75%     0.014085    0.042254     0.140845     0.385714     0.380282   \n",
      "max     0.125000    0.338028     0.676056     0.830769     1.000000   \n",
      "\n",
      "          (80, 90]    (90, 200]  \n",
      "count  2854.000000  2595.000000  \n",
      "mean      0.208224     0.212138  \n",
      "std       0.125498     0.217255  \n",
      "min       0.014085     0.014085  \n",
      "25%       0.112676     0.044118  \n",
      "50%       0.197183     0.126761  \n",
      "75%       0.295775     0.309859  \n",
      "max       0.842857     1.000000  \n"
     ]
    },
    {
     "data": {
      "text/plain": [
       "<matplotlib.text.Text at 0x11040e250>"
      ]
     },
     "execution_count": 12,
     "metadata": {},
     "output_type": "execute_result"
    },
    {
     "name": "stderr",
     "output_type": "stream",
     "text": [
      "/Users/nalinisingh/dev/anaconda2/lib/python2.7/site-packages/matplotlib/collections.py:590: FutureWarning: elementwise comparison failed; returning scalar instead, but in the future will perform elementwise comparison\n",
      "  if self._edgecolors == str('face'):\n"
     ]
    },
    {
     "data": {
      "image/png": "[encoded data removed]",
      "text/plain": [
       "<matplotlib.figure.Figure at 0x10fdcb1d0>"
      ]
     },
     "metadata": {},
     "output_type": "display_data"
    }
   ],
   "source": [
    "# Plot of percent of time spent within each MAP bin\n",
    "map_labels = ['(30, 40]','(40, 50]','(50, 60]','(60, 70]','(70, 80]','(80, 90]','(90, 200]']\n",
    "\n",
    "aki_map_avg = aki_dataset[map_labels].describe()\n",
    "non_aki_map_avg = non_aki_dataset[map_labels].describe()\n",
    "all_map_avg = lr_data[map_labels].describe()\n",
    "print aki_map_avg\n",
    "ind_avg = 1\n",
    "ind_std = 2\n",
    "\n",
    "row = aki_map_avg.iloc[ind_avg]\n",
    "row.plot(kind='line',yerr=aki_map_avg.iloc[ind_std],label='AKI Patients')\n",
    "\n",
    "row = non_aki_map_avg.iloc[ind_avg]\n",
    "row.plot(kind='line',yerr=non_aki_map_avg.iloc[ind_std],label='Non-AKI Patients')\n",
    "\n",
    "plt.legend(loc='upper left')\n",
    "plt.xlabel('MAP Bins')\n",
    "plt.ylabel('Percent of Time Spent in MAP Bin')"
   ]
  },
  {
   "cell_type": "code",
   "execution_count": 69,
   "metadata": {
    "collapsed": false
   },
   "outputs": [
    {
     "name": "stdout",
     "output_type": "stream",
     "text": [
      "Optimization terminated successfully.\n",
      "         Current function value: 0.609517\n",
      "         Iterations 6\n",
      "                           Logit Regression Results                           \n",
      "==============================================================================\n",
      "Dep. Variable:                    aki   No. Observations:                 4178\n",
      "Model:                          Logit   Df Residuals:                     4165\n",
      "Method:                           MLE   Df Model:                           12\n",
      "Date:                Fri, 16 Dec 2016   Pseudo R-squ.:                 0.07487\n",
      "Time:                        09:26:43   Log-Likelihood:                -2546.6\n",
      "converged:                       True   LL-Null:                       -2752.7\n",
      "                                        LLR p-value:                 9.899e-81\n",
      "=====================================================================================================\n",
      "                                        coef    std err          z      P>|z|      [95.0% Conf. Int.]\n",
      "-----------------------------------------------------------------------------------------------------\n",
      "age                                   0.0151      0.002      7.241      0.000         0.011     0.019\n",
      "los                                   0.0489      0.005     10.179      0.000         0.040     0.058\n",
      "max_lactate                           0.0530      0.015      3.626      0.000         0.024     0.082\n",
      "vaso_frac                             0.2427      0.174      1.398      0.162        -0.098     0.583\n",
      "min_map                              -0.0291      0.004     -7.499      0.000        -0.037    -0.022\n",
      "gender_F                              0.0029      0.069      0.043      0.966        -0.131     0.137\n",
      "eth_AMERICAN INDIAN/ALASKA NATIVE    -0.5308      1.451     -0.366      0.714        -3.375     2.313\n",
      "eth_ASIAN                            -0.8780      0.221     -3.971      0.000        -1.311    -0.445\n",
      "eth_BLACK/AFRICAN AMERICAN            0.0053      0.138      0.038      0.969        -0.265     0.276\n",
      "eth_HISPANIC/LATINO                  -0.2478      0.183     -1.353      0.176        -0.607     0.111\n",
      "eth_MULTI/OTHER                      -0.2035      0.212     -0.960      0.337        -0.619     0.212\n",
      "eth_UNKNOWN                          -0.0949      0.106     -0.893      0.372        -0.303     0.113\n",
      "intercept                             0.3217      0.282      1.140      0.254        -0.231     0.875\n",
      "=====================================================================================================\n"
     ]
    }
   ],
   "source": [
    "# Organize data for logistic regression\n",
    "\n",
    "cols = lr_data[['age','gender','eth','los','max_lactate','vaso_frac','min_map']]\n",
    "labels = lr_data[['aki']]\n",
    "\n",
    "# Explicitly get dummy variables for categoricals\n",
    "\n",
    "cols['gender'] = pd.Categorical(cols['gender'])\n",
    "gender_dummies = pd.get_dummies(cols['gender'], prefix='gender')\n",
    "cols = cols.join(gender_dummies.ix[:, 'gender_2':])\n",
    "del cols['gender']\n",
    "del cols['gender_M'] # delete reference group to prevent multicollinearity\n",
    "\n",
    "cols['eth'] = pd.Categorical(cols['eth'])\n",
    "gender_dummies = pd.get_dummies(cols['eth'], prefix='eth')\n",
    "cols = cols.join(gender_dummies.ix[:, 'eth':])\n",
    "del cols['eth']\n",
    "del cols['eth_WHITE'] # delete reference group to prevent multicollinearity\n",
    "\n",
    "# Manually add the intercept\n",
    "cols['intercept'] = 1.0\n",
    "\n",
    "# Split 90-10 training test\n",
    "np.random.seed(0)\n",
    "msk = np.random.rand(len(lr_data)) < 0.9\n",
    "train_set = cols[msk]\n",
    "test_set = cols[~msk]\n",
    "\n",
    "train_labels = labels[msk]\n",
    "test_labels = labels[~msk]\n",
    "\n",
    "\n",
    "# Do logistic regression\n",
    "logit = sm.Logit(train_labels, train_set)\n",
    "result = logit.fit()\n",
    "print result.summary()"
   ]
  },
  {
   "cell_type": "code",
   "execution_count": 70,
   "metadata": {
    "collapsed": false
   },
   "outputs": [
    {
     "name": "stdout",
     "output_type": "stream",
     "text": [
      "                                       2.5%      97.5%        OR\n",
      "age                                1.011062   1.019353  1.015199\n",
      "los                                1.040300   1.060089  1.050148\n",
      "max_lactate                        1.024666   1.085123  1.054461\n",
      "vaso_frac                          0.906933   1.791647  1.274717\n",
      "min_map                            0.963949   0.978729  0.971311\n",
      "gender_F                           0.876828   1.147179  1.002935\n",
      "eth_AMERICAN INDIAN/ALASKA NATIVE  0.034230  10.104350  0.588112\n",
      "eth_ASIAN                          0.269452   0.641088  0.415623\n",
      "eth_BLACK/AFRICAN AMERICAN         0.766859   1.317936  1.005321\n",
      "eth_HISPANIC/LATINO                0.545082   1.117627  0.780511\n",
      "eth_MULTI/OTHER                    0.538609   1.235866  0.815873\n",
      "eth_UNKNOWN                        0.738482   1.120014  0.909456\n",
      "intercept                          0.793584   2.398081  1.379521\n"
     ]
    }
   ],
   "source": [
    "# Get odds ratios and confidence intervals\n",
    "\n",
    "conf = result.conf_int()\n",
    "conf['OR'] = result.params\n",
    "conf.columns = ['2.5%', '97.5%', 'OR']\n",
    "print np.exp(conf)"
   ]
  },
  {
   "cell_type": "code",
   "execution_count": 71,
   "metadata": {
    "collapsed": false
   },
   "outputs": [
    {
     "name": "stdout",
     "output_type": "stream",
     "text": [
      "Area under the ROC curve : 0.708094\n"
     ]
    }
   ],
   "source": [
    "# Compute AUC\n",
    "\n",
    "test_set['pred'] = result.predict(test_set)\n",
    "fpr, tpr, thresholds = roc_curve(test_labels, test_set['pred'])\n",
    "roc_auc = auc(fpr, tpr)\n",
    "print(\"Area under the ROC curve : %f\" % roc_auc)"
   ]
  }
 ],
 "metadata": {
  "anaconda-cloud": {},
  "kernelspec": {
   "display_name": "Python [Root]",
   "language": "python",
   "name": "Python [Root]"
  },
  "language_info": {
   "codemirror_mode": {
    "name": "ipython",
    "version": 2
   },
   "file_extension": ".py",
   "mimetype": "text/x-python",
   "name": "python",
   "nbconvert_exporter": "python",
   "pygments_lexer": "ipython2",
   "version": "2.7.12"
  }
 },
 "nbformat": 4,
 "nbformat_minor": 2
}
