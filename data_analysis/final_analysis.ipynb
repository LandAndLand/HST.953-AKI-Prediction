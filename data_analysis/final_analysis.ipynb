{
 "cells": [
  {
   "cell_type": "code",
   "execution_count": 2,
   "metadata": {
    "collapsed": false
   },
   "outputs": [],
   "source": [
    "%matplotlib inline\n",
    "import pandas as pd\n",
    "pd.options.mode.chained_assignment = None\n",
    "\n",
    "import numpy as np\n",
    "import matplotlib.pyplot as plt\n",
    "import statsmodels.api as sm\n",
    "\n",
    "from process import *\n",
    "\n",
    "# load in data\n",
    "data_path='../data_extraction/data/'\n",
    "\n",
    "cohort = pd.read_table(data_path+'cohort.tsv')\n",
    "\n",
    "cohort.ix[cohort.age > 90, 'age']=90\n",
    "\n",
    "urine = pd.read_csv(data_path+'urine.csv')\n",
    "urine = urine.loc[urine['value'] < 5000]\n",
    "\n",
    "maps = pd.read_csv(data_path+'map.csv')\n",
    "creatinine = pd.read_csv(data_path+'creatinine.csv')\n",
    "admission_creatinine = pd.read_csv(data_path+'admission_creatinine.csv')\n"
   ]
  },
  {
   "cell_type": "code",
   "execution_count": 3,
   "metadata": {
    "collapsed": false
   },
   "outputs": [],
   "source": [
    "# Interpolate the weights\n",
    "\n",
    "cohort.set_index('icustay_id', inplace=True)\n",
    "\n",
    "cohort = interpolateweights(cohort)\n",
    "\n",
    "# Compute the urine blocks\n",
    "aki_urine = calculateurineaki(urine, cohort)\n",
    "cohort = pd.read_table(data_path+'cohort.tsv')"
   ]
  },
  {
   "cell_type": "code",
   "execution_count": 4,
   "metadata": {
    "collapsed": false
   },
   "outputs": [],
   "source": [
    "# Get ethnicities \n",
    "eth = geteth(cohort)"
   ]
  },
  {
   "cell_type": "code",
   "execution_count": 5,
   "metadata": {
    "collapsed": false
   },
   "outputs": [],
   "source": [
    "# clean the lactate\n",
    "cohort = cohort.loc[cohort['max_lactate'] < 100]\n",
    "cohort = cohort[pd.notnull(cohort['max_lactate'])]"
   ]
  },
  {
   "cell_type": "code",
   "execution_count": 6,
   "metadata": {
    "collapsed": false
   },
   "outputs": [
    {
     "name": "stdout",
     "output_type": "stream",
     "text": [
      "Fraction of hours missing MAP values: 0.0739482307313\n"
     ]
    }
   ],
   "source": [
    "# Get map features \n",
    "mean_maps, min_maps, map_fracs = getmapfeatures(maps)"
   ]
  },
  {
   "cell_type": "code",
   "execution_count": 7,
   "metadata": {
    "collapsed": false
   },
   "outputs": [],
   "source": [
    "# Process creatinine values and calculate aki \n",
    "creat_summary = analyzecreatinine(creatinine, admission_creatinine)"
   ]
  },
  {
   "cell_type": "code",
   "execution_count": 8,
   "metadata": {
    "collapsed": false
   },
   "outputs": [],
   "source": [
    "# Get the logistic regression data\n",
    "lr_data, aki_dataset, non_aki_dataset = getlrdata(cohort, eth, min_maps, creat_summary, aki_urine)"
   ]
  },
  {
   "cell_type": "code",
   "execution_count": 9,
   "metadata": {
    "collapsed": false
   },
   "outputs": [
    {
     "name": "stdout",
     "output_type": "stream",
     "text": [
      "------------------------------- AKI Patients -------------------------------\n",
      "============================================================================\n",
      "               age          los  max_lactate    vaso_frac      min_map\n",
      "count  2326.000000  2326.000000  2326.000000  2326.000000  2326.000000\n",
      "mean     74.864777    13.061265     3.154321     0.150059    56.711542\n",
      "std      52.612659    11.373221     2.694477     0.221234     8.766882\n",
      "min      18.440591     3.001000     0.600000     0.000000    31.000000\n",
      "25%      53.801045     5.560975     1.500000     0.000000    52.000000\n",
      "50%      66.764063     9.568150     2.200000     0.034030    56.277751\n",
      "75%      77.871133    16.282825     3.800000     0.228574    62.000000\n",
      "max     309.777981   173.072500    27.700000     0.995077    88.000000\n",
      "\n",
      "gender:\n",
      "F    1186\n",
      "M    1140\n",
      "dtype: int64\n",
      "\n",
      "F    0.509888\n",
      "M    0.490112\n",
      "dtype: float64\n",
      "\n",
      "ethnicity:\n",
      "WHITE                            1748\n",
      "UNKNOWN                           264\n",
      "BLACK/AFRICAN AMERICAN            154\n",
      "HISPANIC/LATINO                    67\n",
      "MULTI/OTHER                        55\n",
      "ASIAN                              37\n",
      "AMERICAN INDIAN/ALASKA NATIVE       1\n",
      "dtype: int64\n",
      "\n",
      "WHITE                            0.751505\n",
      "UNKNOWN                          0.113500\n",
      "BLACK/AFRICAN AMERICAN           0.066208\n",
      "HISPANIC/LATINO                  0.028805\n",
      "MULTI/OTHER                      0.023646\n",
      "ASIAN                            0.015907\n",
      "AMERICAN INDIAN/ALASKA NATIVE    0.000430\n",
      "dtype: float64\n",
      "\n",
      "----------------------------- Non-AKI Patients -----------------------------\n",
      "============================================================================\n",
      "               age          los  max_lactate    vaso_frac      min_map\n",
      "count  1447.000000  1447.000000  1447.000000  1447.000000  1447.000000\n",
      "mean     66.423326     8.790574     2.784140     0.113199    58.536807\n",
      "std      43.282549     6.973212     2.217394     0.189500     8.901746\n",
      "min      18.138720     3.001100     0.500000     0.000000    30.333300\n",
      "25%      49.270426     4.121500     1.400000     0.000000    53.000000\n",
      "50%      61.324215     6.308300     2.100000     0.000000    58.000000\n",
      "75%      74.493114    10.759250     3.400000     0.160344    64.000000\n",
      "max     304.861332    59.741400    32.000000     0.965293    93.333351\n",
      "\n",
      "gender:\n",
      "M    753\n",
      "F    694\n",
      "dtype: int64\n",
      "\n",
      "M    0.520387\n",
      "F    0.479613\n",
      "dtype: float64\n",
      "\n",
      "ethnicity:\n",
      "WHITE                            1041\n",
      "UNKNOWN                           163\n",
      "BLACK/AFRICAN AMERICAN             97\n",
      "HISPANIC/LATINO                    59\n",
      "ASIAN                              50\n",
      "MULTI/OTHER                        36\n",
      "AMERICAN INDIAN/ALASKA NATIVE       1\n",
      "dtype: int64\n",
      "\n",
      "WHITE                            0.719419\n",
      "UNKNOWN                          0.112647\n",
      "BLACK/AFRICAN AMERICAN           0.067035\n",
      "HISPANIC/LATINO                  0.040774\n",
      "ASIAN                            0.034554\n",
      "MULTI/OTHER                      0.024879\n",
      "AMERICAN INDIAN/ALASKA NATIVE    0.000691\n",
      "dtype: float64\n",
      "\n",
      "------------------------------- All Patients -------------------------------\n",
      "============================================================================\n",
      "               age          los  max_lactate    vaso_frac      min_map\n",
      "count  3773.000000  3773.000000  3773.000000  3773.000000  3773.000000\n",
      "mean     71.627359    11.423394     3.012351     0.135922    57.411557\n",
      "std      49.408714    10.133283     2.528311     0.210372     8.862235\n",
      "min      18.138720     3.001000     0.500000     0.000000    30.333300\n",
      "25%      52.144290     4.860400     1.500000     0.000000    52.000000\n",
      "50%      64.785839     8.108600     2.200000     0.017058    57.000000\n",
      "75%      76.865351    14.124400     3.600000     0.204087    62.666698\n",
      "max     309.777981   173.072500    32.000000     0.995077    93.333351\n",
      "\n",
      "gender:\n",
      "M    1893\n",
      "F    1880\n",
      "dtype: int64\n",
      "\n",
      "M    0.501723\n",
      "F    0.498277\n",
      "dtype: float64\n",
      "\n",
      "ethnicity:\n",
      "WHITE                            2789\n",
      "UNKNOWN                           427\n",
      "BLACK/AFRICAN AMERICAN            251\n",
      "HISPANIC/LATINO                   126\n",
      "MULTI/OTHER                        91\n",
      "ASIAN                              87\n",
      "AMERICAN INDIAN/ALASKA NATIVE       2\n",
      "dtype: int64\n",
      "\n",
      "WHITE                            0.739200\n",
      "UNKNOWN                          0.113173\n",
      "BLACK/AFRICAN AMERICAN           0.066525\n",
      "HISPANIC/LATINO                  0.033395\n",
      "MULTI/OTHER                      0.024119\n",
      "ASIAN                            0.023059\n",
      "AMERICAN INDIAN/ALASKA NATIVE    0.000530\n",
      "dtype: float64\n",
      "\n"
     ]
    }
   ],
   "source": [
    "# Summarize results\n",
    "\n",
    "#AKI\n",
    "print \"------------------------------- AKI Patients -------------------------------\"\n",
    "print \"============================================================================\"\n",
    "get_summary(aki_dataset)\n",
    "\n",
    "#Non-AKI\n",
    "print \"----------------------------- Non-AKI Patients -----------------------------\"\n",
    "print \"============================================================================\"\n",
    "get_summary(non_aki_dataset)\n",
    "\n",
    "#Overall\n",
    "print \"------------------------------- All Patients -------------------------------\"\n",
    "print \"============================================================================\"\n",
    "get_summary(lr_data)"
   ]
  },
  {
   "cell_type": "code",
   "execution_count": 10,
   "metadata": {
    "collapsed": false
   },
   "outputs": [
    {
     "data": {
      "image/png": "[encoded data removed]",
      "text/plain": [
       "<matplotlib.figure.Figure at 0x12a55b250>"
      ]
     },
     "metadata": {},
     "output_type": "display_data"
    }
   ],
   "source": [
    "# Look at MAP split between AKI and Non-AKI subsets\n",
    "bins = np.arange(20,80,1)\n",
    "\n",
    "aki_dataset['min_map'].hist(alpha=0.5, bins = bins, label='AKI',normed=True)\n",
    "non_aki_dataset['min_map'].hist(alpha=0.5, bins = bins, label='Non-AKI',normed=True)\n",
    "\n",
    "plt.legend(loc='upper right')\n",
    "plt.xlabel('Minimum Achieved MAP')\n",
    "plt.ylabel('Fraction of Patients')\n",
    "plt.show()"
   ]
  },
  {
   "cell_type": "code",
   "execution_count": 13,
   "metadata": {
    "collapsed": false
   },
   "outputs": [
    {
     "name": "stdout",
     "output_type": "stream",
     "text": [
      "Optimization terminated successfully.\n",
      "         Current function value: 0.627266\n",
      "         Iterations 6\n",
      "                           Logit Regression Results                           \n",
      "==============================================================================\n",
      "Dep. Variable:                    aki   No. Observations:                 3773\n",
      "Model:                          Logit   Df Residuals:                     3765\n",
      "Method:                           MLE   Df Model:                            7\n",
      "Date:                Wed, 07 Dec 2016   Pseudo R-squ.:                 0.05782\n",
      "Time:                        09:15:26   Log-Likelihood:                -2366.7\n",
      "converged:                       True   LL-Null:                       -2511.9\n",
      "                                        LLR p-value:                 6.566e-59\n",
      "===============================================================================\n",
      "                  coef    std err          z      P>|z|      [95.0% Conf. Int.]\n",
      "-------------------------------------------------------------------------------\n",
      "age             0.0038      0.001      4.547      0.000         0.002     0.005\n",
      "gender         -0.0831      0.070     -1.180      0.238        -0.221     0.055\n",
      "eth             0.0673      0.026      2.590      0.010         0.016     0.118\n",
      "los             0.0612      0.005     12.312      0.000         0.051     0.071\n",
      "max_lactate     0.0390      0.015      2.550      0.011         0.009     0.069\n",
      "vaso_frac       0.4464      0.178      2.512      0.012         0.098     0.795\n",
      "min_map_bin    -0.1819      0.039     -4.641      0.000        -0.259    -0.105\n",
      "intercept      -0.5192      0.196     -2.653      0.008        -0.903    -0.136\n",
      "===============================================================================\n"
     ]
    }
   ],
   "source": [
    "# Organize data for logistic regression\n",
    "\n",
    "train_cols = lr_data[['age','gender','eth','los','max_lactate','vaso_frac','min_map_bin']]\n",
    "train_cols['gender'] = pd.Categorical(train_cols['gender'])\n",
    "train_cols['eth'] = pd.Categorical(train_cols['eth'])\n",
    "train_cols['min_map_bin'] = pd.Categorical(train_cols['min_map_bin'])\n",
    "\n",
    "train_cols['gender'] = train_cols.gender.cat.codes\n",
    "train_cols['eth'] = train_cols.eth.cat.codes\n",
    "train_cols['min_map_bin'] = train_cols.min_map_bin.cat.codes\n",
    "\n",
    "# Manually add the intercept\n",
    "train_cols['intercept'] = 1.0\n",
    "\n",
    "# Do logistic regression\n",
    "logit = sm.Logit(lr_data['aki'], train_cols)\n",
    "result = logit.fit()\n",
    "print result.summary()"
   ]
  },
  {
   "cell_type": "code",
   "execution_count": 117,
   "metadata": {
    "collapsed": false
   },
   "outputs": [
    {
     "name": "stdout",
     "output_type": "stream",
     "text": [
      "age                1.003764\n",
      "gender             0.920236\n",
      "eth                1.069603\n",
      "los                1.063153\n",
      "max_lactate        1.039724\n",
      "vaso_frac          1.562717\n",
      "min_map_bin_num    0.833724\n",
      "intercept          0.595016\n",
      "dtype: float64\n"
     ]
    }
   ],
   "source": [
    "# Get odds ratios\n",
    "print np.exp(result.params)"
   ]
  }
 ],
 "metadata": {
  "anaconda-cloud": {},
  "kernelspec": {
   "display_name": "Python [Root]",
   "language": "python",
   "name": "Python [Root]"
  },
  "language_info": {
   "codemirror_mode": {
    "name": "ipython",
    "version": 2
   },
   "file_extension": ".py",
   "mimetype": "text/x-python",
   "name": "python",
   "nbconvert_exporter": "python",
   "pygments_lexer": "ipython2",
   "version": "2.7.12"
  }
 },
 "nbformat": 4,
 "nbformat_minor": 2
}
