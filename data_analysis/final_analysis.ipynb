{
 "cells": [
  {
   "cell_type": "code",
   "execution_count": 14,
   "metadata": {
    "collapsed": false
   },
   "outputs": [],
   "source": [
    "%matplotlib inline\n",
    "import pandas as pd\n",
    "pd.options.mode.chained_assignment = None\n",
    "\n",
    "import numpy as np\n",
    "import matplotlib.pyplot as plt\n",
    "import statsmodels.api as sm\n",
    "\n",
    "from process import *\n",
    "\n",
    "# load in data\n",
    "data_path='../data_extraction/data/'\n",
    "\n",
    "cohort = pd.read_table(data_path+'cohort.tsv')\n",
    "\n",
    "cohort.ix[cohort.age > 90, 'age']=90\n",
    "\n",
    "urine = pd.read_csv(data_path+'urine.csv')\n",
    "urine = urine.loc[urine['value'] < 5000]\n",
    "\n",
    "maps = pd.read_csv(data_path+'map.csv')\n",
    "creatinine = pd.read_csv(data_path+'creatinine.csv')\n",
    "admission_creatinine = pd.read_csv(data_path+'admission_creatinine.csv')\n"
   ]
  },
  {
   "cell_type": "code",
   "execution_count": 15,
   "metadata": {
    "collapsed": false
   },
   "outputs": [],
   "source": [
    "# Interpolate the weights\n",
    "\n",
    "cohort.set_index('icustay_id', inplace=True)\n",
    "\n",
    "cohort = interpolateweights(cohort)\n",
    "\n",
    "# Compute the urine blocks\n",
    "aki_urine = calculateurineaki(urine, cohort)\n",
    "cohort = pd.read_table(data_path+'cohort.tsv')"
   ]
  },
  {
   "cell_type": "code",
   "execution_count": 16,
   "metadata": {
    "collapsed": false
   },
   "outputs": [],
   "source": [
    "# Get ethnicities \n",
    "eth = geteth(cohort)"
   ]
  },
  {
   "cell_type": "code",
   "execution_count": 17,
   "metadata": {
    "collapsed": false
   },
   "outputs": [],
   "source": [
    "# clean the lactate\n",
    "cohort = cohort.loc[cohort['max_lactate'] < 100]\n",
    "cohort = cohort[pd.notnull(cohort['max_lactate'])]"
   ]
  },
  {
   "cell_type": "code",
   "execution_count": 18,
   "metadata": {
    "collapsed": false
   },
   "outputs": [
    {
     "name": "stdout",
     "output_type": "stream",
     "text": [
      "Fraction of hours missing MAP values: 0.0727082162255\n"
     ]
    }
   ],
   "source": [
    "# Get map features \n",
    "mean_maps, min_maps, map_fracs = getmapfeatures(maps)"
   ]
  },
  {
   "cell_type": "code",
   "execution_count": 19,
   "metadata": {
    "collapsed": false
   },
   "outputs": [],
   "source": [
    "# Process creatinine values and calculate aki \n",
    "creat_summary = analyzecreatinine(creatinine, admission_creatinine)"
   ]
  },
  {
   "cell_type": "code",
   "execution_count": 20,
   "metadata": {
    "collapsed": false
   },
   "outputs": [],
   "source": [
    "# Get the logistic regression data\n",
    "lr_data, aki_dataset, non_aki_dataset = getlrdata(cohort, eth, min_maps, creat_summary, aki_urine)"
   ]
  },
  {
   "cell_type": "code",
   "execution_count": 21,
   "metadata": {
    "collapsed": false
   },
   "outputs": [
    {
     "name": "stdout",
     "output_type": "stream",
     "text": [
      "------------------------------- AKI Patients -------------------------------\n",
      "============================================================================\n",
      "               age          los  max_lactate    vaso_frac      min_map\n",
      "count  2942.000000  2942.000000  2942.000000  2942.000000  2942.000000\n",
      "mean     76.697727    12.980428     3.340445     0.159124    56.587940\n",
      "std      55.131962    11.297079     2.823739     0.228874     8.733826\n",
      "min      18.340391     3.001000     0.500000     0.000000    31.000000\n",
      "25%      54.343115     5.344375     1.600000     0.000000    51.541663\n",
      "50%      67.386841     9.314600     2.400000     0.042935    56.000000\n",
      "75%      78.344660    16.317650     4.000000     0.243792    61.575000\n",
      "max     309.777981   173.072500    27.700000     0.995077   102.000000\n",
      "\n",
      "gender:\n",
      "M    1502\n",
      "F    1440\n",
      "dtype: int64\n",
      "\n",
      "M    0.510537\n",
      "F    0.489463\n",
      "dtype: float64\n",
      "\n",
      "ethnicity:\n",
      "WHITE                            2218\n",
      "UNKNOWN                           340\n",
      "BLACK/AFRICAN AMERICAN            194\n",
      "HISPANIC/LATINO                    79\n",
      "MULTI/OTHER                        66\n",
      "ASIAN                              44\n",
      "AMERICAN INDIAN/ALASKA NATIVE       1\n",
      "dtype: int64\n",
      "\n",
      "WHITE                            0.753909\n",
      "UNKNOWN                          0.115568\n",
      "BLACK/AFRICAN AMERICAN           0.065942\n",
      "HISPANIC/LATINO                  0.026852\n",
      "MULTI/OTHER                      0.022434\n",
      "ASIAN                            0.014956\n",
      "AMERICAN INDIAN/ALASKA NATIVE    0.000340\n",
      "dtype: float64\n",
      "\n",
      "----------------------------- Non-AKI Patients -----------------------------\n",
      "============================================================================\n",
      "               age          los  max_lactate    vaso_frac      min_map\n",
      "count  1721.000000  1721.000000  1721.000000  1721.000000  1721.000000\n",
      "mean     67.671181     8.733820     2.877833     0.114376    58.598333\n",
      "std      45.430333     6.904383     2.271286     0.188417     8.894052\n",
      "min      18.138720     3.001100     0.500000     0.000000    30.333300\n",
      "25%      49.611912     4.113800     1.500000     0.000000    53.000000\n",
      "50%      61.926837     6.247000     2.200000     0.000000    58.000000\n",
      "75%      75.072540    10.747100     3.600000     0.164061    64.000000\n",
      "max     304.861332    59.741400    32.000000     0.965293    93.333351\n",
      "\n",
      "gender:\n",
      "M    925\n",
      "F    796\n",
      "dtype: int64\n",
      "\n",
      "M    0.537478\n",
      "F    0.462522\n",
      "dtype: float64\n",
      "\n",
      "ethnicity:\n",
      "WHITE                            1225\n",
      "UNKNOWN                           198\n",
      "BLACK/AFRICAN AMERICAN            117\n",
      "HISPANIC/LATINO                    70\n",
      "ASIAN                              59\n",
      "MULTI/OTHER                        51\n",
      "AMERICAN INDIAN/ALASKA NATIVE       1\n",
      "dtype: int64\n",
      "\n",
      "WHITE                            0.711795\n",
      "UNKNOWN                          0.115049\n",
      "BLACK/AFRICAN AMERICAN           0.067984\n",
      "HISPANIC/LATINO                  0.040674\n",
      "ASIAN                            0.034282\n",
      "MULTI/OTHER                      0.029634\n",
      "AMERICAN INDIAN/ALASKA NATIVE    0.000581\n",
      "dtype: float64\n",
      "\n",
      "------------------------------- All Patients -------------------------------\n",
      "============================================================================\n",
      "               age          los  max_lactate    vaso_frac      min_map\n",
      "count  4663.000000  4663.000000  4663.000000  4663.000000  4663.000000\n",
      "mean     73.366248    11.413108     3.169706     0.142608    57.329927\n",
      "std      51.941443    10.114284     2.642567     0.215893     8.845719\n",
      "min      18.138720     3.001000     0.500000     0.000000    30.333300\n",
      "25%      52.653453     4.839400     1.500000     0.000000    52.000000\n",
      "50%      65.742741     8.061900     2.300000     0.023877    57.000000\n",
      "75%      77.451556    14.076100     3.850000     0.217292    62.236101\n",
      "max     309.777981   173.072500    32.000000     0.995077   102.000000\n",
      "\n",
      "gender:\n",
      "M    2427\n",
      "F    2236\n",
      "dtype: int64\n",
      "\n",
      "M    0.52048\n",
      "F    0.47952\n",
      "dtype: float64\n",
      "\n",
      "ethnicity:\n",
      "WHITE                            3443\n",
      "UNKNOWN                           538\n",
      "BLACK/AFRICAN AMERICAN            311\n",
      "HISPANIC/LATINO                   149\n",
      "MULTI/OTHER                       117\n",
      "ASIAN                             103\n",
      "AMERICAN INDIAN/ALASKA NATIVE       2\n",
      "dtype: int64\n",
      "\n",
      "WHITE                            0.738366\n",
      "UNKNOWN                          0.115376\n",
      "BLACK/AFRICAN AMERICAN           0.066695\n",
      "HISPANIC/LATINO                  0.031954\n",
      "MULTI/OTHER                      0.025091\n",
      "ASIAN                            0.022089\n",
      "AMERICAN INDIAN/ALASKA NATIVE    0.000429\n",
      "dtype: float64\n",
      "\n"
     ]
    }
   ],
   "source": [
    "# Summarize results\n",
    "\n",
    "#AKI\n",
    "print \"------------------------------- AKI Patients -------------------------------\"\n",
    "print \"============================================================================\"\n",
    "get_summary(aki_dataset)\n",
    "\n",
    "#Non-AKI\n",
    "print \"----------------------------- Non-AKI Patients -----------------------------\"\n",
    "print \"============================================================================\"\n",
    "get_summary(non_aki_dataset)\n",
    "\n",
    "#Overall\n",
    "print \"------------------------------- All Patients -------------------------------\"\n",
    "print \"============================================================================\"\n",
    "get_summary(lr_data)"
   ]
  },
  {
   "cell_type": "code",
   "execution_count": 22,
   "metadata": {
    "collapsed": false
   },
   "outputs": [
    {
     "data": {
      "image/png": "[encoded data removed]",
      "text/plain": [
       "<matplotlib.figure.Figure at 0x10fed4350>"
      ]
     },
     "metadata": {},
     "output_type": "display_data"
    }
   ],
   "source": [
    "# Look at MAP split between AKI and Non-AKI subsets\n",
    "bins = np.arange(20,80,1)\n",
    "\n",
    "aki_dataset['min_map'].hist(alpha=0.5, bins = bins, label='AKI',normed=True)\n",
    "non_aki_dataset['min_map'].hist(alpha=0.5, bins = bins, label='Non-AKI',normed=True)\n",
    "\n",
    "plt.legend(loc='upper right')\n",
    "plt.xlabel('Minimum Achieved MAP')\n",
    "plt.ylabel('Fraction of Patients')\n",
    "plt.show()"
   ]
  },
  {
   "cell_type": "code",
   "execution_count": 23,
   "metadata": {
    "collapsed": false
   },
   "outputs": [
    {
     "name": "stdout",
     "output_type": "stream",
     "text": [
      "Optimization terminated successfully.\n",
      "         Current function value: 0.617993\n",
      "         Iterations 6\n",
      "                           Logit Regression Results                           \n",
      "==============================================================================\n",
      "Dep. Variable:                    aki   No. Observations:                 4663\n",
      "Model:                          Logit   Df Residuals:                     4655\n",
      "Method:                           MLE   Df Model:                            7\n",
      "Date:                Wed, 07 Dec 2016   Pseudo R-squ.:                 0.06146\n",
      "Time:                        09:45:28   Log-Likelihood:                -2881.7\n",
      "converged:                       True   LL-Null:                       -3070.4\n",
      "                                        LLR p-value:                 1.657e-77\n",
      "===============================================================================\n",
      "                  coef    std err          z      P>|z|      [95.0% Conf. Int.]\n",
      "-------------------------------------------------------------------------------\n",
      "age             0.0036      0.001      5.092      0.000         0.002     0.005\n",
      "gender         -0.0742      0.064     -1.157      0.247        -0.200     0.051\n",
      "eth             0.0850      0.024      3.594      0.000         0.039     0.131\n",
      "los             0.0608      0.005     13.434      0.000         0.052     0.070\n",
      "max_lactate     0.0503      0.013      3.733      0.000         0.024     0.077\n",
      "vaso_frac       0.5440      0.160      3.398      0.001         0.230     0.858\n",
      "min_map_bin    -0.1924      0.036     -5.393      0.000        -0.262    -0.122\n",
      "intercept      -0.5771      0.178     -3.242      0.001        -0.926    -0.228\n",
      "===============================================================================\n"
     ]
    }
   ],
   "source": [
    "# Organize data for logistic regression\n",
    "\n",
    "train_cols = lr_data[['age','gender','eth','los','max_lactate','vaso_frac','min_map_bin']]\n",
    "train_cols['gender'] = pd.Categorical(train_cols['gender'])\n",
    "train_cols['eth'] = pd.Categorical(train_cols['eth'])\n",
    "train_cols['min_map_bin'] = pd.Categorical(train_cols['min_map_bin'])\n",
    "\n",
    "train_cols['gender'] = train_cols.gender.cat.codes\n",
    "train_cols['eth'] = train_cols.eth.cat.codes\n",
    "train_cols['min_map_bin'] = train_cols.min_map_bin.cat.codes\n",
    "\n",
    "# Manually add the intercept\n",
    "train_cols['intercept'] = 1.0\n",
    "\n",
    "# Do logistic regression\n",
    "logit = sm.Logit(lr_data['aki'], train_cols)\n",
    "result = logit.fit()\n",
    "print result.summary()"
   ]
  },
  {
   "cell_type": "code",
   "execution_count": 24,
   "metadata": {
    "collapsed": false
   },
   "outputs": [
    {
     "name": "stdout",
     "output_type": "stream",
     "text": [
      "age            1.003638\n",
      "gender         0.928459\n",
      "eth            1.088740\n",
      "los            1.062717\n",
      "max_lactate    1.051628\n",
      "vaso_frac      1.722954\n",
      "min_map_bin    0.824998\n",
      "intercept      0.561498\n",
      "dtype: float64\n"
     ]
    }
   ],
   "source": [
    "# Get odds ratios\n",
    "print np.exp(result.params)"
   ]
  }
 ],
 "metadata": {
  "anaconda-cloud": {},
  "kernelspec": {
   "display_name": "Python [Root]",
   "language": "python",
   "name": "Python [Root]"
  },
  "language_info": {
   "codemirror_mode": {
    "name": "ipython",
    "version": 2
   },
   "file_extension": ".py",
   "mimetype": "text/x-python",
   "name": "python",
   "nbconvert_exporter": "python",
   "pygments_lexer": "ipython2",
   "version": "2.7.12"
  }
 },
 "nbformat": 4,
 "nbformat_minor": 2
}
