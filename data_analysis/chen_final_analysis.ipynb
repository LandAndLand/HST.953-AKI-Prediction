{
 "cells": [
  {
   "cell_type": "code",
   "execution_count": 6,
   "metadata": {
    "collapsed": false
   },
   "outputs": [],
   "source": [
    "%matplotlib inline\n",
    "import pandas as pd\n",
    "pd.options.mode.chained_assignment = None\n",
    "\n",
    "import numpy as np\n",
    "import matplotlib.pyplot as plt\n",
    "import statsmodels.api as sm\n",
    "\n",
    "from chen_process import *\n",
    "\n",
    "# load in data\n",
    "data_path='../data_extraction/data/'\n",
    "\n",
    "cohort = pd.read_table(data_path+'cohort.tsv')\n",
    "\n",
    "cohort.ix[cohort.age > 90, 'age']=90\n",
    "\n",
    "urine = pd.read_csv(data_path+'urine.csv')\n",
    "urine = urine.loc[urine['value'] < 5000]\n",
    "urine = urine.loc[urine['min_from_intime'] >= 0]\n",
    "\n",
    "maps = pd.read_csv(data_path+'map.csv')\n",
    "creatinine = pd.read_csv(data_path+'creatinine.csv')\n",
    "admission_creatinine = pd.read_csv(data_path+'admission_creatinine.csv')\n"
   ]
  },
  {
   "cell_type": "code",
   "execution_count": 7,
   "metadata": {
    "collapsed": false
   },
   "outputs": [],
   "source": [
    "# Interpolate the missing weights\n",
    "\n",
    "cohort.set_index('icustay_id', inplace=True)\n",
    "cohort = interpolateweights(cohort)\n",
    "\n",
    "# Compute the urine blocks\n",
    "aki_urine = calculateurineaki(urine, cohort)\n",
    "cohort = pd.read_table(data_path+'cohort.tsv')"
   ]
  },
  {
   "cell_type": "code",
   "execution_count": 8,
   "metadata": {
    "collapsed": false
   },
   "outputs": [],
   "source": [
    "# Get ethnicities \n",
    "eth = geteth(cohort)"
   ]
  },
  {
   "cell_type": "code",
   "execution_count": 9,
   "metadata": {
    "collapsed": false
   },
   "outputs": [],
   "source": [
    "# clean the lactate\n",
    "cohort = cohort.loc[cohort['max_lactate'] < 100]\n",
    "cohort = cohort[pd.notnull(cohort['max_lactate'])]"
   ]
  },
  {
   "cell_type": "code",
   "execution_count": 10,
   "metadata": {
    "collapsed": false
   },
   "outputs": [
    {
     "name": "stdout",
     "output_type": "stream",
     "text": [
      "Fraction of hours missing MAP values: 0.0727082162255\n"
     ]
    }
   ],
   "source": [
    "# Get map features \n",
    "mean_maps, min_maps, map_fracs = getmapfeatures(maps)"
   ]
  },
  {
   "cell_type": "code",
   "execution_count": 11,
   "metadata": {
    "collapsed": false
   },
   "outputs": [],
   "source": [
    "# Process creatinine values and calculate aki \n",
    "creat_summary = analyzecreatinine(creatinine, admission_creatinine)"
   ]
  },
  {
   "cell_type": "code",
   "execution_count": 12,
   "metadata": {
    "collapsed": false
   },
   "outputs": [],
   "source": [
    "# Get the logistic regression data\n",
    "lr_data, aki_dataset, non_aki_dataset = getlrdata(cohort, eth, min_maps, creat_summary, aki_urine)"
   ]
  },
  {
   "cell_type": "code",
   "execution_count": 13,
   "metadata": {
    "collapsed": false
   },
   "outputs": [
    {
     "name": "stdout",
     "output_type": "stream",
     "text": [
      "------------------------------- AKI Patients -------------------------------\n",
      "============================================================================\n",
      "               age          los  max_lactate    vaso_frac      min_map\n",
      "count  2937.000000  2937.000000  2937.000000  2937.000000  2937.000000\n",
      "mean     76.678879    13.006636     3.333398     0.159389    56.594029\n",
      "std      55.182610    11.307988     2.805793     0.229111     8.744802\n",
      "min      18.340391     3.001000     0.500000     0.000000    31.000000\n",
      "25%      54.333847     5.360800     1.600000     0.000000    51.500000\n",
      "50%      67.324983     9.376100     2.400000     0.043662    56.000000\n",
      "75%      78.307719    16.349700     4.000000     0.243795    61.600000\n",
      "max     309.777981   173.072500    27.700000     0.995077   102.000000\n",
      "\n",
      "gender:\n",
      "M    1502\n",
      "F    1435\n",
      "dtype: int64\n",
      "\n",
      "M    0.511406\n",
      "F    0.488594\n",
      "dtype: float64\n",
      "\n",
      "ethnicity:\n",
      "WHITE                            2208\n",
      "UNKNOWN                           344\n",
      "BLACK/AFRICAN AMERICAN            194\n",
      "HISPANIC/LATINO                    79\n",
      "MULTI/OTHER                        67\n",
      "ASIAN                              44\n",
      "AMERICAN INDIAN/ALASKA NATIVE       1\n",
      "dtype: int64\n",
      "\n",
      "WHITE                            0.751788\n",
      "UNKNOWN                          0.117126\n",
      "BLACK/AFRICAN AMERICAN           0.066054\n",
      "HISPANIC/LATINO                  0.026898\n",
      "MULTI/OTHER                      0.022812\n",
      "ASIAN                            0.014981\n",
      "AMERICAN INDIAN/ALASKA NATIVE    0.000340\n",
      "dtype: float64\n",
      "\n",
      "----------------------------- Non-AKI Patients -----------------------------\n",
      "============================================================================\n",
      "               age          los  max_lactate    vaso_frac      min_map\n",
      "count  1726.000000  1726.000000  1726.000000  1726.000000  1726.000000\n",
      "mean     67.729403     8.701526     2.891165     0.114054    58.582147\n",
      "std      45.365681     6.866848     2.313075     0.187963     8.878206\n",
      "min      18.138720     3.001100     0.500000     0.000000    30.333300\n",
      "25%      49.688001     4.113725     1.500000     0.000000    53.000000\n",
      "50%      62.009170     6.246400     2.200000     0.000000    58.000000\n",
      "75%      75.148991    10.693450     3.600000     0.164060    64.000000\n",
      "max     304.861332    59.741400    32.000000     0.965293    93.333351\n",
      "\n",
      "gender:\n",
      "M    925\n",
      "F    801\n",
      "dtype: int64\n",
      "\n",
      "M    0.535921\n",
      "F    0.464079\n",
      "dtype: float64\n",
      "\n",
      "ethnicity:\n",
      "WHITE                            1235\n",
      "UNKNOWN                           194\n",
      "BLACK/AFRICAN AMERICAN            117\n",
      "HISPANIC/LATINO                    70\n",
      "ASIAN                              59\n",
      "MULTI/OTHER                        50\n",
      "AMERICAN INDIAN/ALASKA NATIVE       1\n",
      "dtype: int64\n",
      "\n",
      "WHITE                            0.715527\n",
      "UNKNOWN                          0.112399\n",
      "BLACK/AFRICAN AMERICAN           0.067787\n",
      "HISPANIC/LATINO                  0.040556\n",
      "ASIAN                            0.034183\n",
      "MULTI/OTHER                      0.028969\n",
      "AMERICAN INDIAN/ALASKA NATIVE    0.000579\n",
      "dtype: float64\n",
      "\n",
      "------------------------------- All Patients -------------------------------\n",
      "============================================================================\n",
      "               age          los  max_lactate    vaso_frac      min_map\n",
      "count  4663.000000  4663.000000  4663.000000  4663.000000  4663.000000\n",
      "mean     73.366248    11.413108     3.169706     0.142608    57.329927\n",
      "std      51.941443    10.114284     2.642567     0.215893     8.845719\n",
      "min      18.138720     3.001000     0.500000     0.000000    30.333300\n",
      "25%      52.653453     4.839400     1.500000     0.000000    52.000000\n",
      "50%      65.742741     8.061900     2.300000     0.023877    57.000000\n",
      "75%      77.451556    14.076100     3.850000     0.217292    62.236101\n",
      "max     309.777981   173.072500    32.000000     0.995077   102.000000\n",
      "\n",
      "gender:\n",
      "M    2427\n",
      "F    2236\n",
      "dtype: int64\n",
      "\n",
      "M    0.52048\n",
      "F    0.47952\n",
      "dtype: float64\n",
      "\n",
      "ethnicity:\n",
      "WHITE                            3443\n",
      "UNKNOWN                           538\n",
      "BLACK/AFRICAN AMERICAN            311\n",
      "HISPANIC/LATINO                   149\n",
      "MULTI/OTHER                       117\n",
      "ASIAN                             103\n",
      "AMERICAN INDIAN/ALASKA NATIVE       2\n",
      "dtype: int64\n",
      "\n",
      "WHITE                            0.738366\n",
      "UNKNOWN                          0.115376\n",
      "BLACK/AFRICAN AMERICAN           0.066695\n",
      "HISPANIC/LATINO                  0.031954\n",
      "MULTI/OTHER                      0.025091\n",
      "ASIAN                            0.022089\n",
      "AMERICAN INDIAN/ALASKA NATIVE    0.000429\n",
      "dtype: float64\n",
      "\n"
     ]
    }
   ],
   "source": [
    "# Summarize results\n",
    "\n",
    "#AKI\n",
    "print \"------------------------------- AKI Patients -------------------------------\"\n",
    "print \"============================================================================\"\n",
    "get_summary(aki_dataset)\n",
    "\n",
    "#Non-AKI\n",
    "print \"----------------------------- Non-AKI Patients -----------------------------\"\n",
    "print \"============================================================================\"\n",
    "get_summary(non_aki_dataset)\n",
    "\n",
    "#Overall\n",
    "print \"------------------------------- All Patients -------------------------------\"\n",
    "print \"============================================================================\"\n",
    "get_summary(lr_data)"
   ]
  },
  {
   "cell_type": "code",
   "execution_count": 14,
   "metadata": {
    "collapsed": false
   },
   "outputs": [
    {
     "data": {
      "image/png": "[encoded data removed]",
      "text/plain": [
       "<matplotlib.figure.Figure at 0x1169b2950>"
      ]
     },
     "metadata": {},
     "output_type": "display_data"
    }
   ],
   "source": [
    "# Look at MAP split between AKI and Non-AKI subsets\n",
    "bins = np.arange(20,80,1)\n",
    "\n",
    "aki_dataset['min_map'].hist(alpha=0.5, bins = bins, label='AKI',normed=True)\n",
    "non_aki_dataset['min_map'].hist(alpha=0.5, bins = bins, label='Non-AKI',normed=True)\n",
    "\n",
    "plt.legend(loc='upper right')\n",
    "plt.xlabel('Minimum Achieved MAP')\n",
    "plt.ylabel('Fraction of Patients')\n",
    "plt.show()"
   ]
  },
  {
   "cell_type": "code",
   "execution_count": 15,
   "metadata": {
    "collapsed": false
   },
   "outputs": [
    {
     "name": "stdout",
     "output_type": "stream",
     "text": [
      "Optimization terminated successfully.\n",
      "         Current function value: 0.618257\n",
      "         Iterations 6\n",
      "                           Logit Regression Results                           \n",
      "==============================================================================\n",
      "Dep. Variable:                    aki   No. Observations:                 4663\n",
      "Model:                          Logit   Df Residuals:                     4655\n",
      "Method:                           MLE   Df Model:                            7\n",
      "Date:                Fri, 09 Dec 2016   Pseudo R-squ.:                 0.06187\n",
      "Time:                        01:04:36   Log-Likelihood:                -2882.9\n",
      "converged:                       True   LL-Null:                       -3073.1\n",
      "                                        LLR p-value:                 4.002e-78\n",
      "===============================================================================\n",
      "                  coef    std err          z      P>|z|      [95.0% Conf. Int.]\n",
      "-------------------------------------------------------------------------------\n",
      "age             0.0036      0.001      5.095      0.000         0.002     0.005\n",
      "gender         -0.0643      0.064     -1.002      0.316        -0.190     0.061\n",
      "eth             0.0794      0.024      3.354      0.001         0.033     0.126\n",
      "los             0.0621      0.005     13.629      0.000         0.053     0.071\n",
      "max_lactate     0.0455      0.013      3.397      0.001         0.019     0.072\n",
      "vaso_frac       0.5722      0.160      3.573      0.000         0.258     0.886\n",
      "min_map_bin    -0.1891      0.036     -5.304      0.000        -0.259    -0.119\n",
      "intercept      -0.5650      0.178     -3.176      0.001        -0.914    -0.216\n",
      "===============================================================================\n"
     ]
    }
   ],
   "source": [
    "# Organize data for logistic regression\n",
    "\n",
    "train_cols = lr_data[['age','gender','eth','los','max_lactate','vaso_frac','min_map_bin']]\n",
    "train_cols['gender'] = pd.Categorical(train_cols['gender'])\n",
    "train_cols['eth'] = pd.Categorical(train_cols['eth'])\n",
    "train_cols['min_map_bin'] = pd.Categorical(train_cols['min_map_bin'])\n",
    "\n",
    "train_cols['gender'] = train_cols.gender.cat.codes\n",
    "train_cols['eth'] = train_cols.eth.cat.codes\n",
    "train_cols['min_map_bin'] = train_cols.min_map_bin.cat.codes\n",
    "\n",
    "# Manually add the intercept\n",
    "train_cols['intercept'] = 1.0\n",
    "\n",
    "# Do logistic regression\n",
    "logit = sm.Logit(lr_data['aki'], train_cols)\n",
    "result = logit.fit()\n",
    "print result.summary()"
   ]
  },
  {
   "cell_type": "code",
   "execution_count": 16,
   "metadata": {
    "collapsed": false
   },
   "outputs": [
    {
     "name": "stdout",
     "output_type": "stream",
     "text": [
      "age            1.003630\n",
      "gender         0.937755\n",
      "eth            1.082642\n",
      "los            1.064030\n",
      "max_lactate    1.046530\n",
      "vaso_frac      1.772207\n",
      "min_map_bin    0.827731\n",
      "intercept      0.568357\n",
      "dtype: float64\n"
     ]
    }
   ],
   "source": [
    "# Get odds ratios\n",
    "print np.exp(result.params)"
   ]
  },
  {
   "cell_type": "code",
   "execution_count": 17,
   "metadata": {
    "collapsed": false
   },
   "outputs": [],
   "source": [
    "# The data split by the min_map_bin\n",
    "mapgroups = []\n",
    "akinums=np.zeros([7,3])\n",
    "akimaptimes=[]\n",
    "\n",
    "for binnum in range(0, 7):\n",
    "    if binnum==6:\n",
    "        binstring = '(90, 200]'\n",
    "    else:\n",
    "        binstring = '('+str(binnum+3)+'0, '+str(binnum+4)+'0]'\n",
    "    mapgroup = lr_data.ix[lr_data.min_map_bin == binstring]\n",
    "    mapgroups.append(mapgroup)\n",
    "    \n",
    "    akinums[binnum, 0]= mapgroup.loc[mapgroup['aki']==True].shape[0]\n",
    "    akinums[binnum, 1] = mapgroup.shape[0] - akinums[binnum, 0]\n",
    "    akinums[binnum, 2] = akinums[binnum,0]/mapgroup.shape[0]\n",
    "    \n",
    "    akimaptimes.append(mapgroup[['min_map', 'hour', 'tAKI']].dropna().values)\n"
   ]
  },
  {
   "cell_type": "code",
   "execution_count": 36,
   "metadata": {
    "collapsed": false
   },
   "outputs": [
    {
     "name": "stderr",
     "output_type": "stream",
     "text": [
      "/Users/nalinisingh/dev/anaconda2/lib/python2.7/site-packages/ipykernel/__main__.py:7: DeprecationWarning: using a non-integer number instead of an integer will result in an error in the future\n"
     ]
    },
    {
     "data": {
      "image/png": "[encoded data removed]",
      "text/plain": [
       "<matplotlib.figure.Figure at 0x10f933bd0>"
      ]
     },
     "metadata": {},
     "output_type": "display_data"
    }
   ],
   "source": [
    "# Bar chart of fraction of patients developing AKI within 72 hours for each minimum MAP bin\n",
    "\n",
    "\n",
    "akiprops=np.zeros([7,3])\n",
    "for binnum in range(0,len(akimaptimes)):\n",
    "    # First bootstrap the aki times\n",
    "    binaries = np.append(np.ones(akinums[binnum,0]), np.zeros(akinums[binnum,1]))\n",
    "    \n",
    "    akiprops[binnum,:]= bootstrap_CI(binaries)\n",
    "    \n",
    "relativeerrors = akiprops[:,[0,2]].transpose()\n",
    "for i in range(0,7):\n",
    "    relativeerrors[:,i]=relativeerrors[:,i]-akiprops[i,1]\n",
    "relativeerrors = abs(relativeerrors)\n",
    "plt.bar(range(30, 81, 10), akinums[:-1,2], 10, color='#32A0DF')\n",
    "(_, caps, _) = plt.errorbar(range(35, 86, 10), akinums[:-1,2], relativeerrors[:,:-1], ecolor='#052AFA', linestyle='none', \n",
    "                            elinewidth=3, capsize=8)\n",
    "for cap in caps:\n",
    "    cap.set_markeredgewidth(3)\n",
    "\n",
    "plt.show\n",
    "\n",
    "plt.xlabel('Minimum Map Bin')\n",
    "plt.ylabel('Proportion Developing AKI')\n",
    "plt.title('Proportion Developing AKI for Each Minimum MAP bin')\n",
    "axes = plt.gca()\n",
    "#axes.set_xlim([xmin,xmax])\n",
    "axes.set_ylim([0,1])\n",
    "plt.show()"
   ]
  },
  {
   "cell_type": "code",
   "execution_count": 37,
   "metadata": {
    "collapsed": false
   },
   "outputs": [
    {
     "data": {
      "image/png": "[encoded data removed]",
      "text/plain": [
       "<matplotlib.figure.Figure at 0x110921310>"
      ]
     },
     "metadata": {},
     "output_type": "display_data"
    }
   ],
   "source": [
    "# Scatter plot of minimum map achieved to time of AKI development from admission\n",
    "for i in range(0, len(akimaptimes)):\n",
    "    plt.scatter(akimaptimes[i][:,0], akimaptimes[i][:,2]) # Non-binned lowest map\n",
    "    #b=plt.scatter(len(akimaptimes[i])*[10*(i+3)], akimaptimes[i][:,1]) # Binned lowest map\n",
    "plt.title('Minimum MAP vs AKI Onset time From Admission')\n",
    "plt.xlabel('Minimum Map Achieved/mmHg')\n",
    "plt.ylabel('Minutes from Admission')\n",
    "plt.show()"
   ]
  },
  {
   "cell_type": "code",
   "execution_count": 38,
   "metadata": {
    "collapsed": false
   },
   "outputs": [
    {
     "data": {
      "image/png": "[encoded data removed]",
      "text/plain": [
       "<matplotlib.figure.Figure at 0x115547090>"
      ]
     },
     "metadata": {},
     "output_type": "display_data"
    }
   ],
   "source": [
    "# Scatter plot of minimum map achieved to time of AKI development from time of minimum maps achieved.\n",
    "for i in range(0, len(akimaptimes)):\n",
    "    plt.scatter(akimaptimes[i][:,0], akimaptimes[i][:,2]-60*(akimaptimes[i][:,1])) # Non-binned lowest map\n",
    "    #b=plt.scatter(len(akimaptimes[i])*[10*(i+3)], akimaptimes[i][:,1]) # Binned lowest map\n",
    "plt.title('Minimum MAP vs AKI Onset Time From Min MAP')\n",
    "plt.xlabel('Minimum Map Achieved/mmHg')\n",
    "plt.ylabel('Minutes from Minimum Map Achieved')\n",
    "plt.show()\n"
   ]
  }
 ],
 "metadata": {
  "anaconda-cloud": {},
  "kernelspec": {
   "display_name": "Python [Root]",
   "language": "python",
   "name": "Python [Root]"
  },
  "language_info": {
   "codemirror_mode": {
    "name": "ipython",
    "version": 2
   },
   "file_extension": ".py",
   "mimetype": "text/x-python",
   "name": "python",
   "nbconvert_exporter": "python",
   "pygments_lexer": "ipython2",
   "version": "2.7.12"
  }
 },
 "nbformat": 4,
 "nbformat_minor": 2
}
